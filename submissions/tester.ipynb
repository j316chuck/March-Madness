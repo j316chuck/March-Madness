{
 "cells": [
  {
   "cell_type": "code",
   "execution_count": 94,
   "metadata": {},
   "outputs": [],
   "source": [
    "import math\n",
    "import pandas as pd\n",
    "import numpy as np\n",
    "pd.options.mode.chained_assignment = None  # default='warn'\n",
    "\n"
   ]
  },
  {
   "cell_type": "code",
   "execution_count": 100,
   "metadata": {},
   "outputs": [],
   "source": [
    "test_years = [2015]\n",
    "input_file = 'logistic_submission_2015.csv'\n",
    "df = pd.read_csv('../input/NCAATourneyCompactResults.csv')\n",
    "submission_df = pd.read_csv(input_file)\n",
    "predictions = {}\n",
    "for index, row in submission_df.iterrows():\n",
    "    year, sid, eid = map(int, row['id'].split('_'))\n",
    "    predictions[(year, sid, eid)] = row['pred']\n",
    "\n",
    "    \n",
    "    "
   ]
  },
  {
   "cell_type": "code",
   "execution_count": 101,
   "metadata": {},
   "outputs": [
    {
     "name": "stdout",
     "output_type": "stream",
     "text": [
      "Log loss of year 2015 is 0.461436112848\n",
      "Average log loss across the years 2015 - 2015 is 0.461436112848\n"
     ]
    },
    {
     "data": {
      "text/plain": [
       "(0.4614361128483572, [0.4614361128483572])"
      ]
     },
     "execution_count": 101,
     "metadata": {},
     "output_type": "execute_result"
    }
   ],
   "source": [
    "def test():\n",
    "    log_losses = []\n",
    "    for year in test_years:\n",
    "        log_loss, ncaa_df = evaluate(year)\n",
    "        print \"Log loss of year {0} is {1}\".format(year, log_loss)\n",
    "        log_losses.append(log_loss)\n",
    "    average = sum(log_losses) / len(log_losses)\n",
    "    print \"Average log loss across the years {1} - {2} is {0}\".format(average, test_years[0], test_years[-1])\n",
    "    return average, log_losses\n",
    "test()\n",
    "    "
   ]
  },
  {
   "cell_type": "code",
   "execution_count": 102,
   "metadata": {},
   "outputs": [
    {
     "name": "stdout",
     "output_type": "stream",
     "text": [
      "0.4614361128483572\n"
     ]
    }
   ],
   "source": [
    "def predict(row, year):\n",
    "    mn = min(row['WTeamID'], row['LTeamID'])\n",
    "    mx = max(row['WTeamID'], row['LTeamID'])\n",
    "    return predictions[(year, mn, mx)]\n",
    "\n",
    "def logloss(row):\n",
    "    return (row.Result * math.log(row.Prediction) + (1.0 - row.Result) * math.log(1.0 - row.Prediction))\n",
    "\n",
    "def evaluate(year):\n",
    "    ncaa_df = df[(df['Season'] == year) & (df.DayNum >= 136)]\n",
    "    assert(len(ncaa_df.index) == 63)\n",
    "    ncaa_df['Result'] = ncaa_df.apply(lambda x : int(x.WTeamID < x.LTeamID), axis = 1)\n",
    "    ncaa_df['Prediction'] = ncaa_df.apply(predict, args = (year,), axis = 1)\n",
    "    ncaa_df['LogLoss'] = ncaa_df.apply(logloss, axis = 1)\n",
    "    return -(ncaa_df['LogLoss'].sum() / len(ncaa_df.index)), ncaa_df\n",
    "print(evaluate(2015)[0])"
   ]
  },
  {
   "cell_type": "code",
   "execution_count": null,
   "metadata": {},
   "outputs": [],
   "source": []
  },
  {
   "cell_type": "code",
   "execution_count": null,
   "metadata": {},
   "outputs": [],
   "source": []
  },
  {
   "cell_type": "code",
   "execution_count": null,
   "metadata": {},
   "outputs": [],
   "source": []
  },
  {
   "cell_type": "code",
   "execution_count": null,
   "metadata": {},
   "outputs": [],
   "source": []
  },
  {
   "cell_type": "code",
   "execution_count": null,
   "metadata": {},
   "outputs": [],
   "source": []
  }
 ],
 "metadata": {
  "kernelspec": {
   "display_name": "Python 2",
   "language": "python",
   "name": "python2"
  },
  "language_info": {
   "codemirror_mode": {
    "name": "ipython",
    "version": 2
   },
   "file_extension": ".py",
   "mimetype": "text/x-python",
   "name": "python",
   "nbconvert_exporter": "python",
   "pygments_lexer": "ipython2",
   "version": "2.7.12"
  }
 },
 "nbformat": 4,
 "nbformat_minor": 2
}
