{
 "cells": [
  {
   "cell_type": "code",
   "execution_count": 126,
   "metadata": {},
   "outputs": [],
   "source": [
    "#######################################################################################################################\n",
    "# Model implemented off of https://github.com/adeshpande3/March-Madness-2017/blob/master/March%20Madness%202017.ipynb #\n",
    "#######################################################################################################################\n",
    "import sklearn\n",
    "import pandas as pd\n",
    "import numpy as np\n",
    "import collections\n",
    "from sklearn.cross_validation import train_test_split\n",
    "from sklearn import svm\n",
    "from sklearn.svm import SVC\n",
    "from sklearn import linear_model\n",
    "from sklearn import tree\n",
    "from keras.models import Sequential\n",
    "from keras.layers import Convolution2D, MaxPooling2D, Convolution1D\n",
    "from keras.layers import Activation, Dropout, Flatten, Dense\n",
    "from keras.optimizers import SGD\n",
    "from sklearn.cross_validation import cross_val_score\n",
    "from keras.utils import np_utils\n",
    "from sklearn.neighbors import KNeighborsClassifier\n",
    "import matplotlib.pyplot as plt\n",
    "from sklearn.ensemble import RandomForestClassifier\n",
    "from sklearn.ensemble import AdaBoostClassifier\n",
    "from sklearn.ensemble import GradientBoostingClassifier\n",
    "import sys\n",
    "from sklearn.ensemble import GradientBoostingRegressor\n",
    "import math\n",
    "import csv\n",
    "%matplotlib inline\n",
    "from sklearn.ensemble import VotingClassifier\n",
    "from sklearn.metrics import classification_report\n",
    "import urllib\n",
    "from sklearn.svm import LinearSVC\n",
    "from utils import *\n",
    "from sklearn import metrics\n",
    "from sklearn.metrics import make_scorer\n",
    "from Features import createSeasonDict\n",
    "\n",
    "\n"
   ]
  },
  {
   "cell_type": "code",
   "execution_count": 127,
   "metadata": {},
   "outputs": [],
   "source": [
    "#reading input\n",
    "data_dir = '../../input/'\n",
    "reg_season_compact_pd = pd.read_csv(data_dir + 'RegularSeasonCompactResults.csv')\n",
    "reg_season_detailed_pd = pd.read_csv(data_dir + 'RegularSeasonDetailedResults.csv')\n",
    "seasons_pd = pd.read_csv(data_dir + 'Seasons.csv')\n",
    "teams_pd = pd.read_csv(data_dir + 'Teams.csv')\n",
    "teamList = teams_pd['TeamName'].tolist()\n",
    "tourney_compact_pd = pd.read_csv(data_dir + 'NCAATourneyCompactResults.csv')\n",
    "tourney_detailed_pd = pd.read_csv(data_dir + 'NCAATourneyDetailedResults.csv')\n",
    "tourney_seeds_pd = pd.read_csv(data_dir + 'NCAATourneySeeds.csv')\n",
    "conference_pd = pd.read_csv(data_dir + 'Conference.csv')\n",
    "tourney_results_pd = pd.read_csv(data_dir + 'TourneyResults.csv')\n",
    "NCAAChampionsList = tourney_results_pd['NCAA Champion'].tolist()"
   ]
  },
  {
   "cell_type": "code",
   "execution_count": 128,
   "metadata": {},
   "outputs": [],
   "source": [
    "#loading feature matrix\n",
    "#change model and test year and input data too get a different cv score and a different game result\n",
    "start = 2015 \n",
    "end = 2016\n",
    "test_year = range(start, end)\n",
    "xTrain = np.load(data_dir + 'FeatureMatrix/xTrain.npy')\n",
    "yTrain = np.load(data_dir + 'FeatureMatrix/yTrain.npy')\n",
    "xTest = np.load(data_dir + 'FeatureMatrix/xTest2015.npy')\n",
    "yTest = np.load(data_dir + 'FeatureMatrix/yTest2015.npy')\n",
    "output_file = \"../../submissions/logistic_submission_2015_3.csv\""
   ]
  },
  {
   "cell_type": "code",
   "execution_count": 129,
   "metadata": {},
   "outputs": [],
   "source": [
    "#models to test\n",
    "model = linear_model.LogisticRegression()\n",
    "#model = tree.DecisionTreeClassifier()\n",
    "#model = tree.DecisionTreeRegressor()\n",
    "#model = linear_model.BayesianRidge()\n",
    "#model = linear_model.Lasso()\n",
    "#model = svm.SVC()\n",
    "#model = svm.SVR()\n",
    "#model = linear_model.Ridge(alpha = 0.5)\n",
    "#model = AdaBoostClassifier(n_estimators=100)\n",
    "#model = GradientBoostingClassifier(n_estimators=100)\n",
    "#model = GradientBoostingRegressor(n_estimators=100, max_depth=5)\n",
    "#model = RandomForestClassifier(n_estimators=64)\n",
    "#model = KNeighborsClassifier(n_neighbors=39)\n",
    "#neuralNetwork(10)\n",
    "#model = VotingClassifier(estimators=[('GBR', model1), ('BR', model2), ('KNN', model3)], voting='soft')\n",
    "#model = LinearSVC(penalty='l2', loss='squared_hinge', dual=True, tol=0.0001, C=0.1)\n",
    "\n"
   ]
  },
  {
   "cell_type": "code",
   "execution_count": 130,
   "metadata": {},
   "outputs": [
    {
     "name": "stdout",
     "output_type": "stream",
     "text": [
      "Log loss: 0.445089488466 (+/- 0.0106958718883)\n"
     ]
    }
   ],
   "source": [
    "#requires predict_proba support\n",
    "def cross_validation_score():\n",
    "    scores = cross_val_score(model, xTrain, yTrain, cv = 5, scoring = 'neg_log_loss')\n",
    "    print \"Log loss: {0} (+/- {1})\".format(-scores.mean(), scores.std() * 2)\n",
    "cross_validation_score()\n",
    "\n"
   ]
  },
  {
   "cell_type": "code",
   "execution_count": 131,
   "metadata": {},
   "outputs": [],
   "source": [
    "model.fit(xTrain, yTrain)\n",
    "sample_sub_pd = pd.read_csv(data_dir + 'sample_submission_2015.csv')\n"
   ]
  },
  {
   "cell_type": "code",
   "execution_count": 132,
   "metadata": {},
   "outputs": [],
   "source": [
    "def predictGame(team_1_vector, team_2_vector, home, model):\n",
    "    diff = [a - b for a, b in zip(team_1_vector, team_2_vector)]\n",
    "    diff.append(home)\n",
    "    return model.predict_proba([diff])\n"
   ]
  },
  {
   "cell_type": "code",
   "execution_count": 133,
   "metadata": {},
   "outputs": [],
   "source": [
    "season_dicts = {}\n",
    "for year in test_year:\n",
    "    season_dicts[year] = createSeasonDict(year)\n"
   ]
  },
  {
   "cell_type": "code",
   "execution_count": 134,
   "metadata": {},
   "outputs": [],
   "source": [
    "def createPrediction(year, season_dict):\n",
    "    results = [[0 for x in range(2)] for x in range(len(sample_sub_pd.index))]\n",
    "    for index, row in sample_sub_pd.iterrows():\n",
    "        matchup_id = row['id']\n",
    "        year = int(matchup_id[0:4])\n",
    "        team1_id = int(matchup_id[5:9])\n",
    "        team2_id = int(matchup_id[10:14])\n",
    "        team1_vector = season_dict[int(team1_id)]\n",
    "        team2_vector = season_dict[int(team2_id)]\n",
    "        pred = predictGame(team1_vector, team2_vector, 0, model)\n",
    "        results[index][0] = matchup_id\n",
    "        results[index][1] = pred[0][1]\n",
    "    return results\n",
    "\n",
    "def createPredictionResults():\n",
    "    results = []\n",
    "    for year in test_year:\n",
    "        result = createPrediction(year, season_dicts[year])\n",
    "        results.extend(result)\n",
    "    return results\n",
    "\n",
    "results = createPredictionResults()\n"
   ]
  },
  {
   "cell_type": "code",
   "execution_count": 135,
   "metadata": {},
   "outputs": [],
   "source": [
    "def toCSV():\n",
    "    firstRow = [[0 for x in range(2)] for x in range(1)]\n",
    "    firstRow[0][0] = 'ID'\n",
    "    firstRow[0][1] = 'Pred'\n",
    "    with open(output_file, \"wb\") as f:\n",
    "        writer = csv.writer(f)\n",
    "        writer.writerows(firstRow)\n",
    "        writer.writerows(results)\n",
    "toCSV()"
   ]
  },
  {
   "cell_type": "code",
   "execution_count": 136,
   "metadata": {},
   "outputs": [],
   "source": [
    "###Testing###\n",
    "\n",
    "def predict(row, year):\n",
    "    mn = min(row['WTeamID'], row['LTeamID'])\n",
    "    mx = max(row['WTeamID'], row['LTeamID'])\n",
    "    return predictions[(year, mn, mx)]\n",
    "\n",
    "def logloss(row):\n",
    "    return (row.Result * math.log(row.Prediction) + (1.0 - row.Result) * math.log(1.0 - row.Prediction))\n",
    "\n",
    "def evaluate(year):\n",
    "    ncaa_df = tourney_detailed_pd[(tourney_detailed_pd['Season'] == year) & (tourney_detailed_pd.DayNum >= 136)]\n",
    "    assert(len(ncaa_df.index) == 63)\n",
    "    ncaa_df['Result'] = ncaa_df.apply(lambda x : int(x.WTeamID < x.LTeamID), axis = 1)\n",
    "    ncaa_df['Prediction'] = ncaa_df.apply(predict, args = (year,), axis = 1)\n",
    "    ncaa_df['LogLoss'] = ncaa_df.apply(logloss, axis = 1)\n",
    "    return -(ncaa_df['LogLoss'].sum() / len(ncaa_df.index))\n"
   ]
  },
  {
   "cell_type": "code",
   "execution_count": 137,
   "metadata": {},
   "outputs": [
    {
     "name": "stdout",
     "output_type": "stream",
     "text": [
      "Log Loss of year 2015 is 0.461436112848\n",
      "Log Loss average over years 2015 - 2015 is 0.461436112848\n"
     ]
    },
    {
     "data": {
      "text/plain": [
       "0.4614361128483573"
      ]
     },
     "execution_count": 137,
     "metadata": {},
     "output_type": "execute_result"
    }
   ],
   "source": [
    "predictions = {}\n",
    "def test():\n",
    "    import warnings\n",
    "    warnings.filterwarnings(\"ignore\")\n",
    "    log_losses = []\n",
    "    for row in results:\n",
    "            year, sid, eid = map(int, row[0].split('_'))\n",
    "            predictions[(year, sid, eid)] = row[1]\n",
    "    for year in test_year:\n",
    "        log_loss = evaluate(year)\n",
    "        log_losses.append(log_loss)\n",
    "        print \"Log Loss of year {} is {}\".format(year, log_loss)\n",
    "    print \"Log Loss average over years {} - {} is {}\".format(test_year[0], test_year[-1], sum(log_losses) / len(log_losses))\n",
    "    return sum(log_losses) / len(log_losses)\n",
    "\n",
    "test()\n"
   ]
  },
  {
   "cell_type": "code",
   "execution_count": null,
   "metadata": {},
   "outputs": [],
   "source": []
  },
  {
   "cell_type": "code",
   "execution_count": null,
   "metadata": {},
   "outputs": [],
   "source": []
  },
  {
   "cell_type": "code",
   "execution_count": null,
   "metadata": {},
   "outputs": [],
   "source": []
  },
  {
   "cell_type": "code",
   "execution_count": null,
   "metadata": {},
   "outputs": [],
   "source": []
  }
 ],
 "metadata": {
  "kernelspec": {
   "display_name": "Python 2",
   "language": "python",
   "name": "python2"
  },
  "language_info": {
   "codemirror_mode": {
    "name": "ipython",
    "version": 2
   },
   "file_extension": ".py",
   "mimetype": "text/x-python",
   "name": "python",
   "nbconvert_exporter": "python",
   "pygments_lexer": "ipython2",
   "version": "2.7.12"
  }
 },
 "nbformat": 4,
 "nbformat_minor": 2
}
