{
 "cells": [
  {
   "cell_type": "code",
   "execution_count": 1,
   "metadata": {},
   "outputs": [
    {
     "name": "stderr",
     "output_type": "stream",
     "text": [
      "/usr/local/lib/python2.7/dist-packages/sklearn/cross_validation.py:41: DeprecationWarning: This module was deprecated in version 0.18 in favor of the model_selection module into which all the refactored classes and functions are moved. Also note that the interface of the new CV iterators are different from that of this module. This module will be removed in 0.20.\n",
      "  \"This module will be removed in 0.20.\", DeprecationWarning)\n",
      "/usr/local/lib/python2.7/dist-packages/h5py/__init__.py:36: FutureWarning: Conversion of the second argument of issubdtype from `float` to `np.floating` is deprecated. In future, it will be treated as `np.float64 == np.dtype(float).type`.\n",
      "  from ._conv import register_converters as _register_converters\n",
      "Using TensorFlow backend.\n"
     ]
    }
   ],
   "source": [
    "#######################################################################################################################\n",
    "# Model implemented off of https://github.com/adeshpande3/March-Madness-2017/blob/master/March%20Madness%202017.ipynb #\n",
    "#######################################################################################################################\n",
    "\n",
    "import sklearn\n",
    "import pandas as pd\n",
    "import numpy as np\n",
    "from __future__ import division\n",
    "import collections\n",
    "from sklearn.cross_validation import train_test_split\n",
    "from sklearn import svm\n",
    "from sklearn.svm import SVC\n",
    "from sklearn import linear_model\n",
    "from sklearn import tree\n",
    "from keras.models import Sequential\n",
    "from keras.layers import Convolution2D, MaxPooling2D, Convolution1D\n",
    "from keras.layers import Activation, Dropout, Flatten, Dense\n",
    "from keras.optimizers import SGD\n",
    "from sklearn.cross_validation import cross_val_score\n",
    "from keras.utils import np_utils\n",
    "from sklearn.neighbors import KNeighborsClassifier\n",
    "import matplotlib.pyplot as plt\n",
    "from sklearn.ensemble import RandomForestClassifier\n",
    "from sklearn.ensemble import AdaBoostClassifier\n",
    "from sklearn.ensemble import GradientBoostingClassifier\n",
    "import sys\n",
    "from sklearn.ensemble import GradientBoostingRegressor\n",
    "import math\n",
    "import csv\n",
    "%matplotlib inline\n",
    "from sklearn.ensemble import VotingClassifier\n",
    "from sklearn.metrics import classification_report\n",
    "import urllib\n",
    "from sklearn.svm import LinearSVC\n",
    "from utils import *\n",
    "\n",
    "\n"
   ]
  },
  {
   "cell_type": "code",
   "execution_count": 2,
   "metadata": {},
   "outputs": [],
   "source": [
    "#reading input\n",
    "data_dir = '../../input/'\n",
    "reg_season_compact_pd = pd.read_csv(data_dir + 'RegularSeasonCompactResults.csv')\n",
    "reg_season_detailed_pd = pd.read_csv(data_dir + 'RegularSeasonDetailedResults.csv')\n",
    "seasons_pd = pd.read_csv(data_dir + 'Seasons.csv')\n",
    "teams_pd = pd.read_csv(data_dir + 'Teams.csv')\n",
    "teamList = teams_pd['TeamName'].tolist()\n",
    "tourney_compact_pd = pd.read_csv(data_dir + 'NCAATourneyCompactResults.csv')\n",
    "tourney_detailed_pd = pd.read_csv(data_dir + 'NCAATourneyDetailedResults.csv')\n",
    "tourney_seeds_pd = pd.read_csv(data_dir + 'NCAATourneySeeds.csv')\n",
    "duke_id = teams_pd[teams_pd['TeamName'] == 'Duke'].values[0][0]\n",
    "conference_pd = pd.read_csv(data_dir + 'Conference.csv')\n",
    "tourney_results_pd = pd.read_csv(data_dir + 'TourneyResults.csv')\n",
    "tourney_results_pd.head()\n",
    "NCAAChampionsList = tourney_results_pd['NCAA Champion'].tolist()\n"
   ]
  },
  {
   "cell_type": "code",
   "execution_count": 3,
   "metadata": {},
   "outputs": [],
   "source": [
    "#feature extraction\n",
    "\n",
    "listACCteams = ['North Carolina','Virginia','Florida St','Louisville','Notre Dame','Syracuse','Duke','Virginia Tech','Georgia Tech','Miami','Wake Forest','Clemson','NC State','Boston College','Pittsburgh']\n",
    "listPac12teams = ['Arizona','Oregon','UCLA','California','USC','Utah','Washington St','Stanford','Arizona St','Colorado','Washington','Oregon St']\n",
    "listSECteams = ['Kentucky','South Carolina','Florida','Arkansas','Alabama','Tennessee','Mississippi St','Georgia','Ole Miss','Vanderbilt','Auburn','Texas A&M','LSU','Missouri']\n",
    "listBig10teams = ['Maryland','Wisconsin','Purdue','Northwestern','Michigan St','Indiana','Iowa','Michigan','Penn St','Nebraska','Minnesota','Illinois','Ohio St','Rutgers']\n",
    "listBig12teams = ['Kansas','Baylor','West Virginia','Iowa St','TCU','Kansas St','Texas Tech','Oklahoma St','Texas','Oklahoma']\n",
    "listBigEastteams = ['Butler','Creighton','DePaul','Georgetown','Marquette','Providence','Seton Hall','St John\\'s','Villanova','Xavier']\n",
    "\n"
   ]
  },
  {
   "cell_type": "code",
   "execution_count": 4,
   "metadata": {},
   "outputs": [],
   "source": [
    "def checkPower6Conference(team_id):\n",
    "    teamName = teams_pd.values[team_id-1101][1]\n",
    "    if (teamName in listACCteams or teamName in listBig10teams or teamName in listBig12teams\n",
    "       or teamName in listSECteams or teamName in listPac12teams or teamName in listBigEastteams):\n",
    "        return 1\n",
    "    else:\n",
    "        return 0\n"
   ]
  },
  {
   "cell_type": "code",
   "execution_count": 5,
   "metadata": {},
   "outputs": [],
   "source": [
    "def getTeamID(name):\n",
    "    return teams_pd[teams_pd['TeamName'] == name].values[0][0]\n"
   ]
  },
  {
   "cell_type": "code",
   "execution_count": 6,
   "metadata": {},
   "outputs": [],
   "source": [
    "def getTeamName(team_id):\n",
    "    return teams_pd[teams_pd['TeamID'] == team_id].values[0][1]"
   ]
  },
  {
   "cell_type": "code",
   "execution_count": 7,
   "metadata": {},
   "outputs": [],
   "source": [
    "def getNumChampionships(team_id):\n",
    "    name = getTeamName(team_id)\n",
    "    return NCAAChampionsList.count(name)\n"
   ]
  },
  {
   "cell_type": "code",
   "execution_count": 8,
   "metadata": {},
   "outputs": [],
   "source": [
    "def getListForURL(team_list):\n",
    "    team_list = [x.lower() for x in team_list]\n",
    "    team_list = [t.replace(' ', '-') for t in team_list]\n",
    "    team_list = [t.replace('st', 'state') for t in team_list]\n",
    "    team_list = [t.replace('northern-dakota', 'north-dakota') for t in team_list]\n",
    "    team_list = [t.replace('nc-', 'north-carolina-') for t in team_list]\n",
    "    team_list = [t.replace('fl-', 'florida-') for t in team_list]\n",
    "    team_list = [t.replace('ga-', 'georgia-') for t in team_list]\n",
    "    team_list = [t.replace('lsu', 'louisiana-state') for t in team_list]\n",
    "    team_list = [t.replace('maristate', 'marist') for t in team_list]\n",
    "    team_list = [t.replace('stateate', 'state') for t in team_list]\n",
    "    team_list = [t.replace('northernorthern', 'northern') for t in team_list]\n",
    "    team_list = [t.replace('usc', 'southern-california') for t in team_list]\n",
    "    base = 'http://www.sports-reference.com/cbb/schools/'\n",
    "    for team in team_list:\n",
    "        url = base + team + '/'\n"
   ]
  },
  {
   "cell_type": "code",
   "execution_count": 9,
   "metadata": {},
   "outputs": [],
   "source": [
    "# Function for handling the annoying cases of Florida and FL, as well as State and St\n",
    "def handleCases(arr):\n",
    "    indices = []\n",
    "    listLen = len(arr)\n",
    "    for i in range(listLen):\n",
    "        if (arr[i] == 'St' or arr[i] == 'FL'):\n",
    "            indices.append(i)\n",
    "    for p in indices:\n",
    "        arr[p-1] = arr[p-1] + ' ' + arr[p]\n",
    "    for i in range(len(indices)): \n",
    "        arr.remove(arr[indices[i] - i])\n",
    "    return arr"
   ]
  },
  {
   "cell_type": "code",
   "execution_count": 10,
   "metadata": {},
   "outputs": [],
   "source": [
    "def getTourneyAppearances(team_id):\n",
    "    return len(tourney_seeds_pd[tourney_seeds_pd['TeamID'] == team_id].index)"
   ]
  },
  {
   "cell_type": "code",
   "execution_count": 11,
   "metadata": {},
   "outputs": [],
   "source": [
    "def checkConferenceChamp(team_id, year):\n",
    "    year_conf_pd = conference_pd[conference_pd['Year'] == year]\n",
    "    champs = year_conf_pd['Regular Season Champ'].tolist()\n",
    "    # For handling cases where there is more than one champion\n",
    "    champs_separated = [words for segments in champs for words in segments.split()]\n",
    "    name = getTeamName(team_id)\n",
    "    champs_separated = handleCases(champs_separated)\n",
    "    if (name in champs_separated):\n",
    "        return 1\n",
    "    else:\n",
    "        return 0\n"
   ]
  },
  {
   "cell_type": "code",
   "execution_count": 12,
   "metadata": {},
   "outputs": [],
   "source": [
    "def checkConferenceTourneyChamp(team_id, year):\n",
    "    year_conf_pd = conference_pd[conference_pd['Year'] == year]\n",
    "    champs = year_conf_pd['Tournament Champ'].tolist()\n",
    "    name = getTeamName(team_id)\n",
    "    if (name in champs):\n",
    "        return 1\n",
    "    else:\n",
    "        return 0\n"
   ]
  },
  {
   "cell_type": "code",
   "execution_count": 13,
   "metadata": {},
   "outputs": [],
   "source": [
    "def handleDifferentCSV(df):\n",
    "    # The stats CSV is a lit different in terms of naming so below is just some data cleaning\n",
    "    df['School'] = df['School'].replace('(State)', 'St', regex=True) \n",
    "    df['School'] = df['School'].replace('Albany (NY)', 'Albany NY') \n",
    "    df['School'] = df['School'].replace('Boston University', 'Boston Univ')\n",
    "    df['School'] = df['School'].replace('Central Michigan', 'C Michigan')\n",
    "    df['School'] = df['School'].replace('(Eastern)', 'E', regex=True)\n",
    "    df['School'] = df['School'].replace('Louisiana St', 'LSU')\n",
    "    df['School'] = df['School'].replace('North Carolina St', 'NC State')\n",
    "    df['School'] = df['School'].replace('Southern California', 'USC')\n",
    "    df['School'] = df['School'].replace('University of California', 'California', regex=True) \n",
    "    df['School'] = df['School'].replace('American', 'American Univ')\n",
    "    df['School'] = df['School'].replace('Arkansas-Little Rock', 'Ark Little Rock')\n",
    "    df['School'] = df['School'].replace('Arkansas-Pine Bluff', 'Ark Pine Bluff')\n",
    "    df['School'] = df['School'].replace('Bowling Green St', 'Bowling Green')\n",
    "    df['School'] = df['School'].replace('Brigham Young', 'BYU')\n",
    "    df['School'] = df['School'].replace('Cal Poly', 'Cal Poly SLO')\n",
    "    df['School'] = df['School'].replace('Centenary (LA)', 'Centenary')\n",
    "    df['School'] = df['School'].replace('Central Connecticut St', 'Central Conn')\n",
    "    df['School'] = df['School'].replace('Charleston Southern', 'Charleston So')\n",
    "    df['School'] = df['School'].replace('Coastal Carolina', 'Coastal Car')\n",
    "    df['School'] = df['School'].replace('College of Charleston', 'Col Charleston')\n",
    "    df['School'] = df['School'].replace('Cal St Fullerton', 'CS Fullerton')\n",
    "    df['School'] = df['School'].replace('Cal St Sacramento', 'CS Sacramento')\n",
    "    df['School'] = df['School'].replace('Cal St Bakersfield', 'CS Bakersfield')\n",
    "    df['School'] = df['School'].replace('Cal St Northridge', 'CS Northridge')\n",
    "    df['School'] = df['School'].replace('East Tennessee St', 'ETSU')\n",
    "    df['School'] = df['School'].replace('Detroit Mercy', 'Detroit')\n",
    "    df['School'] = df['School'].replace('Fairleigh Dickinson', 'F Dickinson')\n",
    "    df['School'] = df['School'].replace('Florida Atlantic', 'FL Atlantic')\n",
    "    df['School'] = df['School'].replace('Florida Gulf Coast', 'FL Gulf Coast')\n",
    "    df['School'] = df['School'].replace('Florida International', 'Florida Intl')\n",
    "    df['School'] = df['School'].replace('George Washington', 'G Washington')\n",
    "    df['School'] = df['School'].replace('Georgia Southern', 'Ga Southern')\n",
    "    df['School'] = df['School'].replace('Gardner-Webb', 'Gardner Webb')\n",
    "    df['School'] = df['School'].replace('Illinois-Chicago', 'IL Chicago')\n",
    "    df['School'] = df['School'].replace('Kent St', 'Kent')\n",
    "    df['School'] = df['School'].replace('Long Island University', 'Long Island')\n",
    "    df['School'] = df['School'].replace('Loyola Marymount', 'Loy Marymount')\n",
    "    df['School'] = df['School'].replace('Loyola (MD)', 'Loyola MD')\n",
    "    df['School'] = df['School'].replace('Loyola (IL)', 'Loyola-Chicago')\n",
    "    df['School'] = df['School'].replace('Massachusetts', 'MA Lowell')\n",
    "    df['School'] = df['School'].replace('Maryland-Eastern Shore', 'MD E Shore')\n",
    "    df['School'] = df['School'].replace('Miami (FL)', 'Miami FL')\n",
    "    df['School'] = df['School'].replace('Miami (OH)', 'Miami OH')\n",
    "    df['School'] = df['School'].replace('Missouri-Kansas City', 'Missouri KC')\n",
    "    df['School'] = df['School'].replace('Monmouth', 'Monmouth NJ')\n",
    "    df['School'] = df['School'].replace('Mississippi Valley St', 'MS Valley St')\n",
    "    df['School'] = df['School'].replace('Montana St', 'MTSU')\n",
    "    df['School'] = df['School'].replace('Northern Colorado', 'N Colorado')\n",
    "    df['School'] = df['School'].replace('North Dakota St', 'N Dakota St')\n",
    "    df['School'] = df['School'].replace('Northern Illinois', 'N Illinois')\n",
    "    df['School'] = df['School'].replace('Northern Kentucky', 'N Kentucky')\n",
    "    df['School'] = df['School'].replace('North Carolina A&T', 'NC A&T')\n",
    "    df['School'] = df['School'].replace('North Carolina Central', 'NC Central')\n",
    "    df['School'] = df['School'].replace('Pennsylvania', 'Penn')\n",
    "    df['School'] = df['School'].replace('South Carolina St', 'S Carolina St')\n",
    "    df['School'] = df['School'].replace('Southern Illinois', 'S Illinois')\n",
    "    df['School'] = df['School'].replace('UC-Santa Barbara', 'Santa Barbara')\n",
    "    df['School'] = df['School'].replace('Southeastern Louisiana', 'SE Louisiana')\n",
    "    df['School'] = df['School'].replace('Southeast Missouri St', 'SE Missouri St')\n",
    "    df['School'] = df['School'].replace('Stephen F. Austin', 'SF Austin')\n",
    "    df['School'] = df['School'].replace('Southern Methodist', 'SMU')\n",
    "    df['School'] = df['School'].replace('Southern Mississippi', 'Southern Miss')\n",
    "    df['School'] = df['School'].replace('Southern', 'Southern Univ')\n",
    "    df['School'] = df['School'].replace('St. Bonaventure', 'St Bonaventure')\n",
    "    df['School'] = df['School'].replace('St. Francis (NY)', 'St Francis NY')\n",
    "    df['School'] = df['School'].replace('Saint Francis (PA)', 'St Francis PA')\n",
    "    df['School'] = df['School'].replace('St. John\\'s (NY)', 'St John\\'s')\n",
    "    df['School'] = df['School'].replace('Saint Joseph\\'s', 'St Joseph\\'s PA')\n",
    "    df['School'] = df['School'].replace('Saint Louis', 'St Louis')\n",
    "    df['School'] = df['School'].replace('Saint Mary\\'s (CA)', 'St Mary\\'s CA')\n",
    "    df['School'] = df['School'].replace('Mount Saint Mary\\'s', 'Mt St Mary\\'s')\n",
    "    df['School'] = df['School'].replace('Saint Peter\\'s', 'St Peter\\'s')\n",
    "    df['School'] = df['School'].replace('Texas A&M-Corpus Christian', 'TAM C. Christian')\n",
    "    df['School'] = df['School'].replace('Texas Christian', 'TCU')\n",
    "    df['School'] = df['School'].replace('Tennessee-Martin', 'TN Martin')\n",
    "    df['School'] = df['School'].replace('Texas-Rio Grande Valley', 'UTRGV')\n",
    "    df['School'] = df['School'].replace('Texas Southern', 'TX Southern')\n",
    "    df['School'] = df['School'].replace('Alabama-Birmingham', 'UAB')\n",
    "    df['School'] = df['School'].replace('UC-Davis', 'UC Davis')\n",
    "    df['School'] = df['School'].replace('UC-Irvine', 'UC Irvine')\n",
    "    df['School'] = df['School'].replace('UC-Riverside', 'UC Riverside')\n",
    "    df['School'] = df['School'].replace('Central Florida', 'UCF')\n",
    "    df['School'] = df['School'].replace('Louisiana-Lafayette', 'ULL')\n",
    "    df['School'] = df['School'].replace('Louisiana-Monroe', 'ULM')\n",
    "    df['School'] = df['School'].replace('Maryland-Baltimore County', 'UMBC')\n",
    "    df['School'] = df['School'].replace('North Carolina-Asheville', 'UNC Asheville')\n",
    "    df['School'] = df['School'].replace('North Carolina-Greensboro', 'UNC Greensboro')\n",
    "    df['School'] = df['School'].replace('North Carolina-Wilmington', 'UNC Wilmington')\n",
    "    df['School'] = df['School'].replace('Nevada-Las Vegas', 'UNLV')\n",
    "    df['School'] = df['School'].replace('Texas-Arlington', 'UT Arlington')\n",
    "    df['School'] = df['School'].replace('Texas-San Antonio', 'UT San Antonio')\n",
    "    df['School'] = df['School'].replace('Texas-El Paso', 'UTEP')\n",
    "    df['School'] = df['School'].replace('Virginia Commonwealth', 'VA Commonwealth')\n",
    "    df['School'] = df['School'].replace('Western Carolina', 'W Carolina')\n",
    "    df['School'] = df['School'].replace('Western Illinois', 'W Illinois')\n",
    "    df['School'] = df['School'].replace('Western Kentucky', 'WKU')\n",
    "    df['School'] = df['School'].replace('Western Michigan', 'W Michigan')\n",
    "    df['School'] = df['School'].replace('Abilene Christian', 'Abilene Chr')\n",
    "    df['School'] = df['School'].replace('Montana State', 'Montana St')\n",
    "    df['School'] = df['School'].replace('Central Arkansas', 'Cent Arkansas')\n",
    "    df['School'] = df['School'].replace('Houston Baptist', 'Houston Bap')\n",
    "    df['School'] = df['School'].replace('South Dakota St', 'S Dakota St')\n",
    "    df['School'] = df['School'].replace('Maryland-Eastern Shore', 'MD E Shore')\n",
    "    return df"
   ]
  },
  {
   "cell_type": "code",
   "execution_count": 14,
   "metadata": {},
   "outputs": [
    {
     "name": "stdout",
     "output_type": "stream",
     "text": [
      "[26, 79.67647058823529, 68.26470588235294, 1, 7.176470588235294, 15.058823529411764, 11.823529411764707, 1, 1, 4, 8.84, 20.23, 41.029411764705884, 6.0588235294117645, 28, 3]\n"
     ]
    }
   ],
   "source": [
    "def getSeasonData(team_id, year):\n",
    "    # The data frame below holds stats for every single game in the given year\n",
    "    year_data_pd = reg_season_compact_pd[reg_season_compact_pd['Season'] == year]\n",
    "    # Finding number of points per game\n",
    "    gamesWon = year_data_pd[year_data_pd.WTeamID == team_id] \n",
    "    totalPointsScored = gamesWon['WScore'].sum()\n",
    "    gamesLost = year_data_pd[year_data_pd.LTeamID == team_id] \n",
    "    totalGames = gamesWon.append(gamesLost)\n",
    "    numGames = len(totalGames.index)\n",
    "    totalPointsScored += gamesLost['LScore'].sum()\n",
    "    \n",
    "    # Finding number of points per game allowed\n",
    "    totalPointsAllowed = gamesWon['LScore'].sum()\n",
    "    totalPointsAllowed += gamesLost['WScore'].sum()\n",
    "    stats_SOS_pd = pd.read_csv(data_dir + 'MMStats/MMStats_'+str(year)+'.csv')\n",
    "    stats_SOS_pd = handleDifferentCSV(stats_SOS_pd)\n",
    "    ratings_pd = pd.read_csv(data_dir + 'RatingStats/RatingStats_'+str(year)+'.csv')\n",
    "    ratings_pd = handleDifferentCSV(ratings_pd)\n",
    "    \n",
    "    name = getTeamName(team_id)\n",
    "    team = stats_SOS_pd[stats_SOS_pd['School'] == name]\n",
    "    team_rating = ratings_pd[ratings_pd['School'] == name]\n",
    "    if (len(team.index) == 0 or len(team_rating.index) == 0): #Can't find the team\n",
    "        total3sMade = 0\n",
    "        totalTurnovers = 0\n",
    "        totalAssists = 0\n",
    "        sos = 0\n",
    "        totalRebounds = 0\n",
    "        srs = 0\n",
    "        totalSteals = 0\n",
    "    else:\n",
    "        total3sMade = team['X3P'].values[0]\n",
    "        totalTurnovers = team['TOV'].values[0]\n",
    "        if (math.isnan(totalTurnovers)):\n",
    "            totalTurnovers = 0\n",
    "        totalAssists = team['AST'].values[0]\n",
    "        if (math.isnan(totalAssists)):\n",
    "            totalAssists = 0\n",
    "        sos = team['SOS'].values[0]\n",
    "        srs = team['SRS'].values[0]\n",
    "        totalRebounds = team['TRB'].values[0]\n",
    "        if (math.isnan(totalRebounds)):\n",
    "            totalRebounds = 0\n",
    "        totalSteals = team['STL'].values[0]\n",
    "        if (math.isnan(totalSteals)):\n",
    "            totalSteals = 0\n",
    "    \n",
    "    #Finding tournament seed for that year\n",
    "    tourneyYear = tourney_seeds_pd[tourney_seeds_pd['Season'] == year]\n",
    "    seed = tourneyYear[tourneyYear['TeamID'] == team_id]\n",
    "    if (len(seed.index) != 0):\n",
    "        seed = seed.values[0][1]\n",
    "        tournamentSeed = int(seed[1:3])\n",
    "    else:\n",
    "        tournamentSeed = 25 #Not sure how to represent if a team didn't make the tourney\n",
    "    # Finding number of wins and losses\n",
    "    numWins = len(gamesWon.index)\n",
    "    # There are some teams who may have dropped to Division 2, so they won't have games \n",
    "    # a certain year. In this case, we don't want to divide by 0, so we'll just set the\n",
    "    # averages to 0 instead\n",
    "    if numGames == 0:\n",
    "        avgPointsScored = 0\n",
    "        avgPointsAllowed = 0\n",
    "        avg3sMade = 0\n",
    "        avgTurnovers = 0\n",
    "        avgAssists = 0\n",
    "        avgRebounds = 0\n",
    "        avgSteals = 0\n",
    "    else:\n",
    "        avgPointsScored = totalPointsScored/numGames\n",
    "        avgPointsAllowed = totalPointsAllowed/numGames\n",
    "        avg3sMade = total3sMade/numGames\n",
    "        avgTurnovers = totalTurnovers/numGames\n",
    "        avgAssists = totalAssists/numGames\n",
    "        avgRebounds = totalRebounds/numGames\n",
    "        avgSteals = totalSteals/numGames\n",
    "    return [numWins, avgPointsScored, avgPointsAllowed, checkPower6Conference(team_id), avg3sMade, avgAssists, avgTurnovers,\n",
    "           checkConferenceChamp(team_id, year), checkConferenceTourneyChamp(team_id, year), tournamentSeed,\n",
    "            sos, srs, avgRebounds, avgSteals, getTourneyAppearances(team_id), getNumChampionships(team_id)]\n",
    "print(getSeasonData(getTeamID('Kentucky'), 2016))"
   ]
  },
  {
   "cell_type": "code",
   "execution_count": 15,
   "metadata": {},
   "outputs": [],
   "source": [
    "def compareTwoTeams(id_1, id_2, year):\n",
    "    team_1 = getSeasonData(id_1, year)\n",
    "    team_2 = getSeasonData(id_2, year)\n",
    "    diff = [a - b for a, b in zip(team_1, team_2)]\n",
    "    return diff"
   ]
  },
  {
   "cell_type": "code",
   "execution_count": 16,
   "metadata": {},
   "outputs": [
    {
     "data": {
      "text/plain": [
       "[3,\n",
       " 0.6265597147950075,\n",
       " -0.6586452762923329,\n",
       " 0,\n",
       " 2.0356506238859184,\n",
       " 3.24420677361854,\n",
       " 2.570409982174688,\n",
       " 0,\n",
       " 0,\n",
       " -3,\n",
       " 2.380000000000001,\n",
       " 3.6400000000000006,\n",
       " 2.6978609625668426,\n",
       " 1.6078431372549025,\n",
       " 4,\n",
       " -1]"
      ]
     },
     "execution_count": 16,
     "metadata": {},
     "output_type": "execute_result"
    }
   ],
   "source": [
    "compareTwoTeams(getTeamID('Kansas'), getTeamID('Kentucky'), 2016)\n"
   ]
  },
  {
   "cell_type": "code",
   "execution_count": 17,
   "metadata": {},
   "outputs": [],
   "source": [
    "def createSeasonDict(year):\n",
    "    seasonDictionary = collections.defaultdict(list)\n",
    "    for team in teamList:\n",
    "        team_id = teams_pd[teams_pd['TeamName'] == team].values[0][0]\n",
    "        team_vector = getSeasonData(team_id, year)\n",
    "        seasonDictionary[team_id] = team_vector\n",
    "    return seasonDictionary"
   ]
  },
  {
   "cell_type": "code",
   "execution_count": 18,
   "metadata": {},
   "outputs": [
    {
     "name": "stdout",
     "output_type": "stream",
     "text": [
      "defaultdict(<type 'list'>, {1101: [9, 69.85185185185185, 76.25925925925925, 0, 7.7407407407407405, 15.62962962962963, 15.481481481481481, 0, 0, 25, -7.53, -13.93, 36.7037037037037, 8.62962962962963, 0, 0], 1102: [12, 67.43333333333334, 73.6, 0, 6.733333333333333, 14.0, 14.066666666666666, 0, 0, 25, 0.66, -5.51, 36.9, 6.533333333333333, 2, 0], 1103: [25, 76.33333333333333, 69.06060606060606, 0, 12.393939393939394, 15.363636363636363, 11.454545454545455, 0, 0, 25, -1.24, 5.55, 39.696969696969695, 5.757575757575758, 4, 0], 1104: [18, 66.84375, 67.8125, 1, 8.09375, 10.84375, 13.6875, 0, 0, 25, 8.62, 7.14, 35.65625, 6.0, 15, 0], 1105: [10, 67.10714285714286, 69.75, 0, 6.25, 13.071428571428571, 12.071428571428571, 0, 0, 25, -10.75, -13.47, 35.714285714285715, 5.821428571428571, 1, 0], 1106: [12, 70.06896551724138, 73.79310344827586, 0, 7.413793103448276, 12.827586206896552, 12.793103448275861, 0, 0, 25, -9.35, -13.11, 39.758620689655174, 6.241379310344827, 4, 0], 1107: [23, 74.61290322580645, 65.70967741935483, 0, 6.064516129032258, 13.225806451612904, 13.32258064516129, 0, 0, 25, -7.57, 0.93, 41.16129032258065, 6.967741935483871, 5, 0], 1108: [13, 66.57142857142857, 72.67857142857143, 0, 6.214285714285714, 9.714285714285714, 15.25, 0, 0, 25, -9.94, -16.01, 38.285714285714285, 4.785714285714286, 2, 0], 1109: [0, 0, 0, 0, 0, 0, 0, 0, 0, 25, 0, 0, 0, 0, 0, 0], 1110: [12, 57.58064516129032, 65.6774193548387, 0, 6.290322580645161, 11.225806451612904, 13.612903225806452, 0, 0, 25, -6.08, -14.18, 28.193548387096776, 5.67741935483871, 3, 0], 1111: [9, 70.54838709677419, 77.35483870967742, 0, 8.258064516129032, 11.516129032258064, 14.870967741935484, 0, 0, 25, -1.1, -7.91, 36.83870967741935, 4.096774193548387, 1, 0], 1112: [25, 81.21212121212122, 69.0, 1, 6.696969696969697, 14.696969696969697, 13.333333333333334, 0, 0, 6, 7.23, 18.79, 41.45454545454545, 4.96969696969697, 31, 1], 1113: [15, 73.28125, 73.96875, 1, 7.9375, 12.65625, 12.0, 0, 0, 25, 8.96, 8.28, 36.78125, 5.3125, 5, 0], 1114: [27, 70.0, 60.064516129032256, 0, 8.580645161290322, 14.548387096774194, 11.67741935483871, 0, 0, 12, -1.76, 7.12, 38.54838709677419, 7.419354838709677, 5, 0], 1115: [8, 56.57575757575758, 70.36363636363636, 0, 6.121212121212121, 9.606060606060606, 15.606060606060606, 0, 0, 25, -5.52, -19.31, 30.424242424242426, 7.121212121212121, 1, 0], 1116: [16, 78.15625, 74.6875, 1, 6.75, 16.1875, 11.125, 0, 0, 25, 6.76, 10.23, 37.09375, 7.28125, 19, 1], 1117: [9, 72.3103448275862, 77.41379310344827, 0, 6.206896551724138, 13.137931034482758, 13.724137931034482, 0, 0, 25, -2.37, -7.48, 42.86206896551724, 5.413793103448276, 1, 0], 1118: [0, 0, 0, 0, 0, 0, 0, 0, 0, 25, 0, 0, 0, 0, 0, 0], 1119: [18, 76.80645161290323, 75.51612903225806, 0, 9.483870967741936, 16.161290322580644, 14.419354838709678, 0, 0, 25, -8.13, -7.32, 43.16129032258065, 5.258064516129032, 0, 0], 1120: [11, 70.70967741935483, 78.09677419354838, 1, 8.774193548387096, 11.35483870967742, 13.774193548387096, 0, 0, 25, 7.54, 0.15, 36.58064516129032, 5.354838709677419, 7, 0], 1121: [0, 0, 0, 0, 0, 0, 0, 0, 0, 25, 0, 0, 0, 0, 0, 0], 1122: [16, 74.72727272727273, 77.0909090909091, 0, 6.757575757575758, 14.515151515151516, 15.181818181818182, 0, 0, 16, -2.98, -6.04, 40.18181818181818, 7.575757575757576, 5, 0], 1123: [18, 69.70967741935483, 66.51612903225806, 0, 9.838709677419354, 16.516129032258064, 14.838709677419354, 0, 0, 25, -2.98, 0.11, 41.12903225806452, 6.161290322580645, 6, 0], 1124: [21, 76.3125, 69.625, 1, 6.5625, 18.84375, 13.5, 0, 0, 5, 9.76, 16.13, 39.59375, 8.40625, 8, 0], 1125: [19, 82.46666666666667, 78.76666666666667, 0, 11.266666666666667, 18.133333333333333, 15.0, 0, 0, 25, -2.1, 1.19, 36.833333333333336, 4.833333333333333, 7, 0], 1126: [12, 69.06666666666666, 74.23333333333333, 0, 8.3, 12.366666666666667, 13.733333333333333, 0, 0, 25, -9.18, -14.35, 39.53333333333333, 6.566666666666666, 0, 0], 1127: [8, 60.9, 68.63333333333334, 0, 5.7, 11.1, 13.933333333333334, 0, 0, 25, -6.35, -14.08, 34.1, 5.366666666666666, 1, 0], 1128: [0, 0, 0, 0, 0, 0, 0, 0, 0, 25, 0, 0, 0, 0, 0, 0], 1129: [18, 76.0, 71.9, 0, 8.7, 14.333333333333334, 12.366666666666667, 0, 0, 25, 3.13, 7.23, 37.0, 6.966666666666667, 6, 0], 1130: [7, 61.21875, 70.5, 1, 7.1875, 12.8125, 13.34375, 0, 0, 25, 7.67, -1.61, 31.03125, 5.65625, 11, 0], 1131: [17, 72.7741935483871, 72.96774193548387, 0, 8.774193548387096, 14.709677419354838, 15.064516129032258, 0, 0, 25, -6.37, -6.79, 39.225806451612904, 6.580645161290323, 5, 0], 1132: [14, 69.28125, 73.3125, 0, 6.34375, 12.4375, 13.4375, 0, 0, 25, -1.85, -5.88, 38.6875, 6.53125, 0, 0], 1133: [4, 55.87096774193548, 70.48387096774194, 0, 5.32258064516129, 9.419354838709678, 17.419354838709676, 0, 0, 25, 3.7, -10.91, 34.935483870967744, 4.580645161290323, 4, 0], 1134: [0, 0, 0, 0, 0, 0, 0, 0, 0, 25, 0, 0, 0, 0, 0, 0], 1135: [7, 73.0, 78.22222222222223, 0, 8.333333333333334, 15.333333333333334, 13.814814814814815, 0, 0, 25, -2.82, -8.05, 37.74074074074074, 5.555555555555555, 1, 0], 1136: [7, 64.53333333333333, 76.4, 0, 6.6, 13.833333333333334, 13.933333333333334, 0, 0, 25, -6.71, -18.58, 34.93333333333333, 5.866666666666666, 0, 0], 1137: [16, 77.96551724137932, 73.6896551724138, 0, 8.03448275862069, 16.862068965517242, 14.586206896551724, 0, 0, 25, -5.89, -2.09, 39.206896551724135, 7.0344827586206895, 7, 0], 1138: [19, 76.60606060606061, 75.93939393939394, 0, 7.96969696969697, 13.363636363636363, 14.393939393939394, 0, 0, 14, 0.9, 1.34, 41.303030303030305, 7.2727272727272725, 2, 0], 1139: [21, 80.58064516129032, 71.16129032258064, 1, 7.612903225806452, 15.096774193548388, 10.903225806451612, 0, 0, 9, 7.55, 16.46, 38.32258064516129, 7.32258064516129, 14, 0], 1140: [22, 83.15625, 72.6875, 0, 10.3125, 19.09375, 13.5625, 0, 0, 25, 2.36, 12.36, 47.3125, 8.0, 18, 0], 1141: [14, 74.6896551724138, 73.93103448275862, 0, 11.172413793103448, 15.206896551724139, 10.448275862068966, 0, 0, 25, -1.3, -0.67, 39.724137931034484, 5.344827586206897, 2, 0], 1142: [8, 71.96428571428571, 76.35714285714286, 0, 8.5, 15.178571428571429, 11.035714285714286, 0, 0, 25, 0.9, -3.49, 39.107142857142854, 5.821428571428571, 1, 0], 1143: [23, 75.12121212121212, 67.03030303030303, 1, 7.151515151515151, 13.030303030303031, 12.575757575757576, 0, 0, 4, 7.87, 15.39, 40.878787878787875, 4.212121212121212, 14, 0], 1144: [9, 71.22222222222223, 75.62962962962963, 0, 8.296296296296296, 12.777777777777779, 13.074074074074074, 0, 0, 25, -6.67, -11.07, 35.81481481481482, 7.925925925925926, 1, 0], 1145: [14, 76.54545454545455, 78.39393939393939, 0, 8.636363636363637, 14.121212121212121, 11.151515151515152, 0, 0, 25, -3.77, -5.62, 33.81818181818182, 6.03030303030303, 1, 0], 1146: [7, 75.35714285714286, 83.71428571428571, 0, 6.607142857142857, 13.214285714285714, 14.464285714285714, 0, 0, 25, -6.81, -15.17, 37.285714285714285, 5.428571428571429, 0, 0], 1147: [0, 0, 0, 0, 0, 0, 0, 0, 0, 25, 0, 0, 0, 0, 0, 0], 1148: [4, 65.10344827586206, 78.20689655172414, 0, 5.655172413793103, 11.758620689655173, 13.862068965517242, 0, 0, 25, -9.24, -22.35, 36.06896551724138, 4.379310344827586, 3, 0], 1149: [6, 68.51851851851852, 76.85185185185185, 0, 10.37037037037037, 14.037037037037036, 14.0, 0, 0, 25, -2.59, -10.92, 39.0, 5.666666666666667, 1, 0], 1150: [14, 78.3030303030303, 79.72727272727273, 0, 8.06060606060606, 14.575757575757576, 11.93939393939394, 0, 0, 25, -1.72, -3.14, 36.24242424242424, 6.181818181818182, 10, 0], 1151: [27, 74.78125, 67.09375, 0, 8.1875, 15.75, 13.65625, 0, 0, 12, -3.46, 3.24, 38.78125, 8.5, 8, 0], 1152: [1, 62.6551724137931, 78.79310344827586, 0, 7.862068965517241, 12.931034482758621, 15.724137931034482, 0, 0, 25, -1.38, -17.52, 40.41379310344828, 8.482758620689655, 0, 0], 1153: [22, 73.1875, 62.875, 0, 7.875, 15.875, 11.3125, 0, 0, 9, 5.25, 15.19, 40.34375, 8.03125, 21, 0], 1154: [7, 83.13793103448276, 94.34482758620689, 0, 12.517241379310345, 16.862068965517242, 15.10344827586207, 0, 0, 25, -4.75, -15.95, 39.58620689655172, 9.689655172413794, 0, 0], 1155: [17, 69.64516129032258, 64.48387096774194, 1, 7.67741935483871, 13.258064516129032, 10.096774193548388, 0, 0, 25, 6.87, 12.03, 34.70967741935484, 5.774193548387097, 10, 0], 1156: [7, 60.266666666666666, 69.53333333333333, 0, 5.8, 10.9, 15.266666666666667, 0, 0, 25, 0.09, -9.17, 35.36666666666667, 6.533333333333333, 2, 0], 1157: [15, 71.11538461538461, 68.38461538461539, 0, 9.384615384615385, 15.23076923076923, 15.538461538461538, 0, 0, 25, -4.22, -1.85, 49.96153846153846, 7.5, 4, 0], 1158: [16, 64.63333333333334, 62.3, 0, 6.866666666666666, 12.033333333333333, 13.066666666666666, 0, 0, 25, 0.04, 2.37, 36.333333333333336, 7.4, 4, 0], 1159: [12, 69.06896551724138, 71.62068965517241, 0, 9.206896551724139, 13.724137931034482, 12.482758620689655, 0, 0, 25, -6.06, -8.61, 32.793103448275865, 6.344827586206897, 2, 0], 1160: [21, 75.4375, 70.6875, 1, 7.875, 14.40625, 14.09375, 0, 0, 8, 7.64, 12.04, 44.8125, 5.53125, 6, 0], 1161: [16, 78.9375, 78.15625, 0, 10.1875, 14.21875, 12.3125, 0, 0, 25, 1.53, 2.31, 42.46875, 4.09375, 5, 0], 1162: [19, 74.44827586206897, 69.51724137931035, 0, 11.586206896551724, 17.862068965517242, 13.03448275862069, 0, 0, 25, -2.55, 3.45, 42.758620689655174, 7.586206896551724, 0, 0], 1163: [24, 73.41176470588235, 63.088235294117645, 0, 7.5, 14.382352941176471, 11.470588235294118, 0, 0, 9, 6.28, 15.89, 38.23529411764706, 6.176470588235294, 20, 4], 1164: [7, 71.3103448275862, 81.0, 0, 8.206896551724139, 12.0, 14.0, 0, 0, 25, -6.06, -15.75, 39.44827586206897, 6.0, 4, 0], 1165: [9, 70.96296296296296, 79.48148148148148, 0, 8.62962962962963, 11.185185185185185, 13.74074074074074, 0, 0, 25, -1.04, -9.55, 33.7037037037037, 8.037037037037036, 4, 0], 1166: [18, 79.5625, 73.03125, 1, 8.84375, 16.78125, 12.65625, 0, 0, 25, 6.44, 13.69, 40.59375, 6.59375, 13, 0], 1167: [21, 71.75862068965517, 63.275862068965516, 0, 6.172413793103448, 17.79310344827586, 13.931034482758621, 0, 0, 15, -5.15, 2.58, 43.55172413793103, 9.068965517241379, 1, 0], 1168: [8, 69.32142857142857, 75.67857142857143, 0, 6.892857142857143, 10.857142857142858, 14.0, 0, 0, 25, -0.76, -7.12, 39.857142857142854, 5.25, 1, 0], 1169: [8, 71.14285714285714, 77.14285714285714, 0, 4.5, 15.107142857142858, 14.964285714285714, 0, 0, 25, -0.85, -6.85, 38.785714285714285, 7.25, 2, 0], 1170: [12, 70.20689655172414, 73.51724137931035, 0, 0.0, 0.0, 0.0, 0, 0, 25, 0, 0, 0.0, 0.0, 0, 0], 1171: [9, 69.29629629629629, 71.5925925925926, 0, 5.777777777777778, 13.592592592592593, 14.88888888888889, 0, 0, 25, -3.29, -5.58, 37.22222222222222, 7.111111111111111, 0, 0], 1172: [19, 79.06451612903226, 78.12903225806451, 0, 10.225806451612904, 16.032258064516128, 10.838709677419354, 0, 0, 25, 5.14, 5.74, 37.225806451612904, 4.967741935483871, 9, 0], 1173: [25, 73.1875, 65.8125, 0, 6.90625, 15.0, 13.28125, 0, 0, 7, 4.76, 11.34, 39.53125, 6.125, 10, 0], 1174: [7, 66.2, 75.66666666666667, 0, 5.6, 10.633333333333333, 11.9, 0, 0, 25, 0.85, -8.62, 37.733333333333334, 3.6, 5, 0], 1175: [5, 60.03333333333333, 74.06666666666666, 0, 7.666666666666667, 12.233333333333333, 14.733333333333333, 0, 0, 25, -6.85, -20.88, 35.46666666666667, 5.766666666666667, 1, 0], 1176: [16, 65.19354838709677, 65.29032258064517, 0, 7.580645161290323, 14.290322580645162, 12.903225806451612, 0, 0, 25, -3.24, -3.34, 25.193548387096776, 6.387096774193548, 0, 0], 1177: [9, 67.48387096774194, 75.0, 1, 5.419354838709677, 11.806451612903226, 14.774193548387096, 0, 0, 25, 8.34, 0.83, 34.16129032258065, 4.838709677419355, 9, 0], 1178: [14, 82.24137931034483, 83.86206896551724, 0, 8.413793103448276, 14.10344827586207, 14.551724137931034, 0, 0, 25, -0.82, -2.44, 40.310344827586206, 7.344827586206897, 3, 0], 1179: [6, 66.53333333333333, 72.6, 0, 7.166666666666667, 12.6, 13.9, 0, 0, 25, 0.92, -5.15, 34.766666666666666, 3.8666666666666667, 1, 0], 1180: [6, 63.1, 70.4, 0, 5.666666666666667, 12.8, 11.466666666666667, 0, 0, 25, 1.88, -5.42, 34.06666666666667, 4.7, 4, 0], 1181: [23, 81.45454545454545, 72.06060606060606, 1, 9.93939393939394, 14.484848484848484, 10.636363636363637, 0, 0, 4, 10.59, 19.23, 39.27272727272727, 6.848484848484849, 32, 5], 1182: [15, 77.93548387096774, 77.80645161290323, 0, 10.387096774193548, 17.129032258064516, 15.193548387096774, 0, 0, 25, 1.35, 1.41, 42.96774193548387, 5.129032258064516, 0, 0], 1183: [11, 70.21428571428571, 75.03571428571429, 0, 8.285714285714286, 14.892857142857142, 13.0, 0, 0, 25, -3.52, -8.35, 35.785714285714285, 6.321428571428571, 2, 0], 1184: [14, 79.86666666666666, 79.53333333333333, 0, 8.6, 16.5, 15.233333333333333, 0, 0, 25, -3.86, -3.53, 33.46666666666667, 7.266666666666667, 3, 0], 1185: [14, 75.89655172413794, 77.27586206896552, 0, 6.448275862068965, 13.068965517241379, 14.586206896551724, 0, 0, 25, 1.24, -0.14, 41.172413793103445, 10.758620689655173, 4, 0], 1186: [15, 79.66666666666667, 77.73333333333333, 0, 11.866666666666667, 14.966666666666667, 12.633333333333333, 0, 0, 25, -6.03, -4.47, 37.766666666666666, 6.733333333333333, 2, 0], 1187: [12, 68.3125, 71.90625, 0, 7.25, 15.1875, 13.25, 0, 0, 25, 3.22, -0.38, 34.15625, 5.71875, 1, 0], 1188: [6, 65.67857142857143, 73.85714285714286, 0, 0.0, 0.0, 0.0, 0, 0, 25, 0, 0, 0.0, 0.0, 0, 0], 1189: [14, 74.63333333333334, 75.96666666666667, 0, 10.1, 16.266666666666666, 13.7, 0, 0, 25, 0.66, -0.67, 39.5, 5.866666666666666, 0, 0], 1190: [21, 76.21875, 74.8125, 0, 9.21875, 13.96875, 14.4375, 0, 0, 25, -2.29, -1.49, 40.625, 7.5, 9, 0], 1191: [24, 74.0, 65.51515151515152, 0, 4.787878787878788, 18.03030303030303, 12.909090909090908, 0, 0, 25, -0.39, 8.1, 36.42424242424242, 5.393939393939394, 4, 0], 1192: [17, 76.83870967741936, 78.51612903225806, 0, 7.67741935483871, 15.225806451612904, 13.64516129032258, 0, 0, 16, -8.31, -10.9, 35.74193548387097, 8.064516129032258, 5, 0], 1193: [19, 76.875, 77.125, 0, 9.15625, 15.71875, 13.34375, 0, 0, 25, -3.14, -3.84, 35.8125, 6.65625, 3, 0], 1194: [7, 65.96774193548387, 74.54838709677419, 0, 7.387096774193548, 12.419354838709678, 12.935483870967742, 0, 0, 25, -1.72, -10.3, 34.54838709677419, 5.645161290322581, 1, 0], 1195: [16, 75.58620689655173, 72.86206896551724, 0, 6.413793103448276, 16.655172413793103, 15.206896551724139, 0, 0, 16, -3.82, -0.79, 49.03448275862069, 7.931034482758621, 3, 0], 1196: [19, 73.60606060606061, 68.57575757575758, 1, 7.818181818181818, 14.545454545454545, 12.242424242424242, 0, 0, 25, 9.19, 14.69, 43.515151515151516, 7.121212121212121, 20, 2], 1197: [6, 62.592592592592595, 73.66666666666667, 0, 6.222222222222222, 11.814814814814815, 17.25925925925926, 0, 0, 25, -10.67, -21.74, 37.407407407407405, 7.111111111111111, 3, 0], 1198: [11, 71.3, 71.73333333333333, 0, 6.033333333333333, 13.033333333333333, 13.8, 0, 0, 25, -4.81, -5.25, 39.86666666666667, 5.4, 1, 0], 1199: [19, 78.09375, 73.78125, 1, 6.875, 14.15625, 13.59375, 0, 0, 25, 8.16, 12.16, 39.28125, 7.59375, 11, 0], 1200: [16, 71.17241379310344, 69.03448275862068, 0, 8.379310344827585, 16.82758620689655, 14.89655172413793, 0, 0, 25, -0.09, 1.87, 36.55172413793103, 9.068965517241379, 1, 0], 1201: [23, 74.625, 71.15625, 0, 6.84375, 14.5625, 11.71875, 0, 0, 14, 2.24, 5.27, 40.40625, 9.21875, 3, 0], 1202: [16, 69.80645161290323, 68.12903225806451, 0, 8.161290322580646, 13.67741935483871, 15.193548387096774, 0, 0, 25, -4.2, -2.83, 40.32258064516129, 7.0, 0, 0], 1203: [23, 75.24242424242425, 68.72727272727273, 0, 8.151515151515152, 16.21212121212121, 12.909090909090908, 0, 0, 25, 4.24, 11.43, 43.696969696969695, 6.96969696969697, 9, 0], 1204: [12, 73.55172413793103, 76.06896551724138, 0, 9.724137931034482, 11.862068965517242, 12.379310344827585, 0, 0, 25, -3.14, -5.65, 39.0, 8.0, 2, 0], 1205: [14, 71.43333333333334, 74.4, 0, 9.2, 14.733333333333333, 14.6, 0, 0, 25, -3.96, -6.92, 41.9, 8.833333333333334, 0, 0], 1206: [11, 66.875, 72.28125, 0, 5.375, 10.25, 12.65625, 0, 0, 25, 3.62, -1.79, 42.46875, 2.875, 6, 0], 1207: [15, 73.63636363636364, 71.81818181818181, 1, 7.909090909090909, 14.909090909090908, 13.212121212121213, 0, 0, 25, 8.49, 10.31, 35.78787878787879, 5.454545454545454, 21, 0], 1208: [19, 70.09375, 69.0, 1, 6.875, 13.25, 13.84375, 0, 0, 25, 8.47, 9.41, 41.21875, 5.125, 11, 0], 1209: [14, 65.03571428571429, 65.64285714285714, 0, 5.321428571428571, 12.571428571428571, 12.464285714285714, 0, 0, 25, -2.19, -2.8, 33.035714285714285, 7.142857142857143, 3, 0], 1210: [19, 73.24242424242425, 71.06060606060606, 1, 6.454545454545454, 14.757575757575758, 12.151515151515152, 0, 0, 25, 9.95, 12.51, 42.36363636363637, 4.787878787878788, 15, 0], 1211: [25, 79.5, 66.75, 0, 8.78125, 15.65625, 12.96875, 0, 0, 11, 4.23, 16.92, 44.5625, 5.75, 20, 0], 1212: [4, 59.32142857142857, 70.46428571428571, 0, 5.428571428571429, 10.642857142857142, 15.785714285714286, 0, 0, 25, -8.48, -19.62, 36.17857142857143, 7.5, 0, 0], 1213: [23, 75.79310344827586, 68.44827586206897, 0, 7.241379310344827, 17.379310344827587, 14.03448275862069, 0, 0, 25, -5.6, 1.43, 44.86206896551724, 7.241379310344827, 0, 0], 1214: [20, 74.96666666666667, 74.06666666666666, 0, 6.866666666666666, 12.7, 14.633333333333333, 0, 0, 16, -8.45, -8.74, 44.06666666666667, 5.633333333333334, 6, 0], 1215: [0, 0, 0, 0, 0, 0, 0, 0, 0, 25, 0, 0, 0, 0, 0, 0], 1216: [9, 70.84375, 79.4375, 0, 9.96875, 12.75, 12.03125, 0, 0, 25, -5.69, -14.29, 31.0, 6.90625, 0, 0], 1217: [12, 66.75, 67.46428571428571, 0, 7.857142857142857, 16.142857142857142, 15.5, 0, 0, 25, -0.25, -0.96, 39.92857142857143, 5.357142857142857, 4, 0], 1218: [25, 77.13333333333334, 66.33333333333333, 0, 7.9, 17.5, 14.533333333333333, 0, 0, 13, -1.04, 9.03, 42.333333333333336, 8.566666666666666, 4, 0], 1219: [18, 75.25, 70.60714285714286, 0, 6.678571428571429, 17.607142857142858, 12.178571428571429, 0, 0, 25, -4.24, -0.52, 38.357142857142854, 9.142857142857142, 0, 0], 1220: [23, 78.28125, 73.84375, 0, 9.03125, 15.9375, 12.6875, 0, 0, 25, 0.77, 5.02, 41.46875, 6.71875, 2, 0], 1221: [14, 65.33333333333333, 69.66666666666667, 0, 7.606060606060606, 14.545454545454545, 11.606060606060606, 0, 0, 16, -6.11, -11.2, 31.87878787878788, 6.636363636363637, 6, 0], 1222: [22, 77.87096774193549, 68.87096774193549, 0, 6.935483870967742, 13.290322580645162, 10.741935483870968, 0, 0, 25, 2.17, 10.3, 38.774193548387096, 6.161290322580645, 4, 0], 1223: [13, 73.0, 78.17241379310344, 0, 7.0344827586206895, 16.24137931034483, 17.379310344827587, 0, 0, 25, -5.26, -10.39, 43.03448275862069, 6.275862068965517, 0, 0], 1224: [10, 70.23333333333333, 76.33333333333333, 0, 4.8, 9.166666666666666, 15.833333333333334, 0, 0, 25, -8.33, -14.43, 40.6, 6.566666666666666, 1, 0], 1225: [19, 67.58064516129032, 66.83870967741936, 0, 7.193548387096774, 13.806451612903226, 16.258064516129032, 0, 0, 25, -5.88, -5.19, 40.54838709677419, 5.741935483870968, 2, 0], 1226: [14, 72.79310344827586, 75.79310344827586, 0, 8.620689655172415, 13.10344827586207, 14.068965517241379, 0, 0, 25, -6.69, -9.83, 37.172413793103445, 7.793103448275862, 1, 0], 1227: [3, 65.42857142857143, 79.14285714285714, 0, 4.75, 12.392857142857142, 16.178571428571427, 0, 0, 25, -0.81, -14.52, 44.107142857142854, 6.0, 3, 0], 1228: [15, 72.11764705882354, 74.76470588235294, 1, 8.147058823529411, 13.588235294117647, 10.441176470588236, 0, 0, 25, 7.03, 4.39, 31.61764705882353, 5.852941176470588, 22, 0], 1229: [17, 66.96774193548387, 66.16129032258064, 0, 7.67741935483871, 12.96774193548387, 13.0, 0, 0, 25, 2.59, 3.4, 36.806451612903224, 6.612903225806452, 4, 0], 1230: [14, 71.24, 74.24, 0, 9.36, 17.12, 14.72, 0, 0, 25, -6.2, -9.2, 38.96, 8.0, 0, 0], 1231: [25, 82.28125, 68.90625, 1, 10.78125, 17.5, 14.6875, 1, 0, 5, 6.9, 19.59, 40.25, 7.46875, 25, 1], 1232: [14, 67.58064516129032, 69.74193548387096, 0, 6.774193548387097, 10.96774193548387, 13.612903225806452, 0, 0, 25, 2.2, 0.04, 39.12903225806452, 5.935483870967742, 3, 0], 1233: [22, 79.59375, 73.65625, 0, 10.21875, 17.21875, 13.15625, 0, 0, 13, -1.78, 3.59, 38.0625, 7.75, 9, 0], 1234: [21, 78.09677419354838, 68.70967741935483, 1, 8.67741935483871, 16.870967741935484, 10.903225806451612, 0, 0, 7, 8.71, 17.01, 40.54838709677419, 7.193548387096774, 17, 0], 1235: [21, 81.84375, 74.96875, 1, 9.15625, 18.03125, 12.46875, 0, 0, 4, 10.16, 16.93, 38.875, 6.8125, 18, 0], 1236: [22, 78.54838709677419, 76.06451612903226, 0, 11.419354838709678, 16.516129032258064, 13.387096774193548, 0, 0, 25, -1.66, 0.0, 39.67741935483871, 6.129032258064516, 0, 0], 1237: [12, 67.58064516129032, 73.54838709677419, 0, 5.903225806451613, 11.451612903225806, 13.741935483870968, 0, 0, 25, 0.11, -5.86, 35.645161290322584, 6.870967741935484, 1, 0], 1238: [17, 67.21875, 66.09375, 0, 7.59375, 13.90625, 13.84375, 0, 0, 25, -9.54, -8.66, 44.28125, 8.71875, 3, 0], 1239: [12, 74.82142857142857, 78.07142857142857, 0, 9.928571428571429, 14.357142857142858, 13.357142857142858, 0, 0, 25, -6.09, -9.34, 43.5, 7.392857142857143, 1, 0], 1240: [6, 66.3103448275862, 72.62068965517241, 0, 8.379310344827585, 13.0, 11.344827586206897, 0, 0, 25, -3.95, -10.26, 34.275862068965516, 5.448275862068965, 1, 0], 1241: [20, 74.16129032258064, 68.48387096774194, 0, 8.96774193548387, 13.096774193548388, 12.258064516129032, 0, 0, 25, 0.5, 6.17, 40.225806451612904, 4.483870967741935, 2, 0], 1242: [29, 80.3030303030303, 67.60606060606061, 1, 9.212121212121213, 18.303030303030305, 14.393939393939394, 1, 1, 1, 11.22, 23.87, 43.72727272727273, 7.666666666666667, 32, 2], 1243: [17, 70.72727272727273, 68.21212121212122, 1, 5.303030303030303, 13.878787878787879, 13.93939393939394, 0, 0, 25, 9.79, 12.31, 36.484848484848484, 7.545454545454546, 13, 0], 1244: [9, 71.27586206896552, 78.24137931034483, 0, 0.0, 0.0, 0.0, 0, 0, 25, 0, 0, 0.0, 0.0, 0, 0], 1245: [18, 72.80645161290323, 72.87096774193549, 0, 5.967741935483871, 12.03225806451613, 12.258064516129032, 0, 0, 25, -1.47, -1.53, 38.83870967741935, 5.483870967741935, 6, 0], 1246: [26, 79.67647058823529, 68.26470588235294, 1, 7.176470588235294, 15.058823529411764, 11.823529411764707, 1, 1, 4, 8.84, 20.23, 41.029411764705884, 6.0588235294117645, 28, 3], 1247: [8, 63.53333333333333, 74.26666666666667, 0, 8.633333333333333, 12.933333333333334, 13.2, 0, 0, 25, 4.65, -6.09, 31.9, 7.233333333333333, 5, 0], 1248: [6, 71.4, 80.4, 0, 8.166666666666666, 13.866666666666667, 13.0, 0, 0, 25, -6.0, -15.0, 31.833333333333332, 5.7, 3, 0], 1249: [7, 73.03846153846153, 78.96153846153847, 0, 7.576923076923077, 16.346153846153847, 16.846153846153847, 0, 0, 25, -8.77, -14.69, 45.03846153846154, 8.653846153846153, 2, 0], 1250: [16, 70.45161290322581, 69.6774193548387, 0, 7.645161290322581, 15.387096774193548, 13.419354838709678, 0, 0, 25, -5.2, -4.42, 35.32258064516129, 6.903225806451613, 5, 0], 1251: [10, 63.10344827586207, 69.79310344827586, 0, 9.758620689655173, 14.448275862068966, 15.379310344827585, 0, 0, 25, -3.73, -10.42, 32.51724137931034, 6.137931034482759, 3, 0], 1252: [10, 77.7741935483871, 82.80645161290323, 0, 10.67741935483871, 17.70967741935484, 14.774193548387096, 0, 0, 25, -3.81, -8.85, 38.774193548387096, 6.709677419354839, 0, 0], 1253: [18, 72.90625, 73.25, 0, 8.96875, 16.625, 13.34375, 0, 0, 25, 4.57, 4.09, 39.09375, 7.0625, 4, 0], 1254: [16, 76.19354838709677, 76.96774193548387, 0, 5.774193548387097, 13.935483870967742, 13.612903225806452, 0, 0, 25, -11.01, -11.79, 37.83870967741935, 7.67741935483871, 4, 0], 1255: [7, 71.63333333333334, 77.9, 0, 7.566666666666666, 14.033333333333333, 15.7, 0, 0, 25, -5.15, -11.42, 39.9, 6.833333333333333, 0, 0], 1256: [21, 78.8, 74.16666666666667, 0, 7.8, 15.433333333333334, 13.733333333333333, 0, 0, 25, -4.4, -0.07, 41.9, 8.233333333333333, 4, 0], 1257: [23, 74.96774193548387, 61.12903225806452, 1, 6.0, 13.516129032258064, 11.451612903225806, 0, 0, 25, 7.74, 21.57, 38.16129032258065, 7.161290322580645, 25, 2], 1258: [13, 70.73333333333333, 75.23333333333333, 0, 7.566666666666666, 16.066666666666666, 11.7, 0, 0, 25, 0.87, -3.63, 34.9, 7.033333333333333, 3, 0], 1259: [9, 69.66666666666667, 75.33333333333333, 0, 5.366666666666666, 11.266666666666667, 13.033333333333333, 0, 0, 25, -5.24, -10.9, 35.13333333333333, 5.4, 2, 0], 1260: [14, 63.70967741935484, 65.51612903225806, 0, 6.32258064516129, 11.935483870967742, 12.96774193548387, 0, 0, 25, 1.11, -0.7, 31.516129032258064, 6.096774193548387, 1, 0], 1261: [19, 78.84848484848484, 77.06060606060606, 1, 6.151515151515151, 15.363636363636363, 11.878787878787879, 0, 0, 25, 7.0, 8.79, 37.303030303030305, 7.96969696969697, 15, 0], 1262: [10, 75.60714285714286, 83.03571428571429, 0, 8.357142857142858, 15.821428571428571, 14.535714285714286, 0, 0, 25, 2.96, 0.64, 40.75, 7.392857142857143, 0, 0], 1263: [8, 75.96666666666667, 86.86666666666666, 0, 7.6, 14.433333333333334, 16.3, 0, 0, 25, -6.49, -17.39, 35.166666666666664, 8.3, 0, 0], 1264: [13, 68.80645161290323, 73.16129032258064, 0, 7.483870967741935, 14.064516129032258, 14.32258064516129, 0, 0, 25, -3.12, -7.48, 29.548387096774192, 7.67741935483871, 6, 0], 1265: [7, 71.5, 78.66666666666667, 0, 8.266666666666667, 11.666666666666666, 12.133333333333333, 0, 0, 25, -4.52, -11.69, 32.5, 4.6, 2, 0], 1266: [20, 76.27272727272727, 74.18181818181819, 1, 5.878787878787879, 16.151515151515152, 14.666666666666666, 0, 0, 25, 5.57, 7.66, 35.72727272727273, 7.818181818181818, 15, 0], 1267: [17, 86.0, 84.87878787878788, 0, 10.06060606060606, 16.78787878787879, 12.848484848484848, 0, 0, 25, -0.3, 0.83, 37.27272727272727, 6.848484848484849, 2, 0], 1268: [24, 75.53125, 66.40625, 1, 8.34375, 15.25, 14.5, 0, 0, 5, 8.31, 16.71, 40.25, 6.5625, 20, 1], 1269: [14, 73.53125, 75.84375, 0, 0.0, 0.0, 0.0, 0, 0, 25, 0, 0, 0.0, 0.0, 8, 0], 1270: [7, 71.38461538461539, 79.88461538461539, 0, 7.884615384615385, 12.73076923076923, 14.23076923076923, 0, 0, 25, -6.74, -15.24, 40.19230769230769, 6.576923076923077, 2, 0], 1271: [9, 66.54838709677419, 74.61290322580645, 0, 0.0, 0.0, 0.0, 0, 0, 25, 0, 0, 0.0, 0.0, 0, 0], 1272: [19, 76.55882352941177, 70.29411764705883, 0, 6.0588235294117645, 15.0, 12.117647058823529, 0, 0, 25, 3.58, 9.84, 40.55882352941177, 7.676470588235294, 18, 0], 1273: [17, 71.3225806451613, 69.58064516129032, 0, 6.774193548387097, 16.419354838709676, 13.870967741935484, 0, 0, 25, -4.55, -3.11, 43.96774193548387, 5.612903225806452, 2, 0], 1274: [25, 75.625, 66.8125, 0, 7.53125, 13.6875, 12.03125, 0, 0, 3, 10.69, 18.52, 37.71875, 6.71875, 8, 0], 1275: [12, 63.15625, 68.8125, 0, 5.5625, 10.5, 12.46875, 0, 0, 25, -0.25, -5.91, 33.375, 6.8125, 7, 0], 1276: [21, 74.42424242424242, 68.18181818181819, 1, 10.363636363636363, 16.272727272727273, 10.545454545454545, 0, 0, 11, 7.92, 13.75, 34.90909090909091, 6.151515151515151, 19, 1], 1277: [29, 79.76470588235294, 63.38235294117647, 1, 9.441176470588236, 21.147058823529413, 12.176470588235293, 0, 1, 2, 6.94, 22.59, 42.76470588235294, 4.588235294117647, 27, 0], 1278: [8, 68.0, 74.0, 1, 6.161290322580645, 12.225806451612904, 11.419354838709678, 0, 0, 25, 6.86, 0.86, 34.41935483870968, 5.483870967741935, 11, 0], 1279: [20, 75.15625, 72.0625, 0, 7.875, 12.875, 12.0625, 0, 0, 25, 4.81, 7.91, 38.4375, 7.5625, 7, 0], 1280: [14, 74.93548387096774, 72.7741935483871, 1, 7.258064516129032, 13.903225806451612, 12.64516129032258, 0, 0, 25, 6.02, 8.18, 35.354838709677416, 6.516129032258065, 9, 0], 1281: [10, 68.58064516129032, 72.96774193548387, 1, 5.645161290322581, 11.67741935483871, 12.548387096774194, 0, 0, 25, 6.88, 2.5, 35.774193548387096, 5.451612903225806, 19, 0], 1282: [9, 69.10714285714286, 73.17857142857143, 0, 7.607142857142857, 12.5, 14.785714285714286, 0, 0, 25, -2.24, -6.31, 38.714285714285715, 6.464285714285714, 0, 0], 1283: [12, 66.96774193548387, 73.06451612903226, 0, 5.419354838709677, 12.580645161290322, 13.193548387096774, 0, 0, 25, 2.58, -3.52, 36.61290322580645, 6.419354838709677, 6, 0], 1284: [27, 79.41176470588235, 71.67647058823529, 0, 8.294117647058824, 13.029411764705882, 12.911764705882353, 0, 0, 25, -1.85, 5.29, 41.088235294117645, 8.705882352941176, 4, 0], 1285: [18, 72.20689655172414, 68.37931034482759, 0, 8.758620689655173, 15.551724137931034, 14.068965517241379, 0, 0, 25, -4.29, -0.72, 39.241379310344826, 5.9655172413793105, 9, 0], 1286: [13, 75.96666666666667, 77.53333333333333, 0, 0.0, 0.0, 0.0, 0, 0, 25, 0, 0, 0.0, 0.0, 2, 0], 1287: [17, 70.72413793103448, 67.82758620689656, 0, 7.413793103448276, 18.379310344827587, 15.96551724137931, 0, 0, 25, -1.65, 1.04, 47.58620689655172, 10.482758620689655, 2, 0], 1288: [8, 67.43333333333334, 72.03333333333333, 0, 5.366666666666666, 11.633333333333333, 12.233333333333333, 0, 0, 25, -7.97, -12.57, 36.3, 6.266666666666667, 2, 0], 1289: [0, 0, 0, 0, 0, 0, 0, 0, 0, 25, 0, 0, 0, 0, 0, 0], 1290: [8, 65.51428571428572, 77.25714285714285, 0, 5.114285714285714, 10.657142857142857, 13.371428571428572, 0, 0, 25, -8.11, -19.86, 35.57142857142857, 6.885714285714286, 5, 0], 1291: [14, 67.21212121212122, 69.15151515151516, 0, 0.0, 0.0, 0.0, 0, 0, 25, 0, 0, 0.0, 0.0, 5, 0], 1292: [22, 72.3225806451613, 68.2258064516129, 0, 9.580645161290322, 12.64516129032258, 12.096774193548388, 0, 0, 15, -5.35, -6.91, 37.38709677419355, 4.806451612903226, 6, 0], 1293: [15, 69.17241379310344, 67.6896551724138, 0, 7.793103448275862, 15.344827586206897, 12.655172413793103, 0, 0, 25, -3.06, -1.58, 35.10344827586207, 6.413793103448276, 13, 0], 1294: [8, 72.96551724137932, 81.17241379310344, 0, 7.0, 11.03448275862069, 14.758620689655173, 0, 0, 25, -4.01, -12.22, 37.13793103448276, 6.137931034482759, 1, 0], 1295: [18, 67.64516129032258, 65.58064516129032, 0, 6.903225806451613, 11.193548387096774, 11.161290322580646, 0, 0, 25, -2.99, -0.93, 37.064516129032256, 6.387096774193548, 3, 0], 1296: [17, 70.24137931034483, 69.24137931034483, 0, 8.206896551724139, 16.275862068965516, 14.827586206896552, 0, 0, 25, -1.2, -0.46, 45.89655172413793, 8.620689655172415, 2, 0], 1297: [7, 69.46428571428571, 75.64285714285714, 0, 8.357142857142858, 15.678571428571429, 14.535714285714286, 0, 0, 25, -0.69, -6.87, 36.892857142857146, 5.071428571428571, 1, 0], 1298: [18, 67.3125, 65.25, 0, 4.40625, 14.0, 13.5, 0, 0, 25, -7.05, -4.99, 37.09375, 5.875, 6, 0], 1299: [10, 67.16129032258064, 75.45161290322581, 0, 6.419354838709677, 10.935483870967742, 14.096774193548388, 0, 0, 25, -8.49, -16.78, 37.03225806451613, 5.225806451612903, 7, 0], 1300: [10, 67.48275862068965, 70.44827586206897, 0, 6.896551724137931, 14.0, 15.10344827586207, 0, 0, 25, -10.03, -13.0, 40.62068965517241, 6.413793103448276, 2, 0], 1301: [16, 75.21212121212122, 74.42424242424242, 1, 6.2727272727272725, 11.606060606060606, 11.030303030303031, 0, 0, 25, 9.04, 9.83, 39.57575757575758, 4.515151515151516, 15, 0], 1302: [0, 0, 0, 0, 0, 0, 0, 0, 0, 25, 0, 0, 0, 0, 0, 0], 1303: [16, 83.86206896551724, 81.72413793103448, 0, 0.0, 0.0, 0.0, 0, 0, 25, 0, 0, 0.0, 0.0, 0, 0], 1304: [16, 72.23529411764706, 68.97058823529412, 1, 6.470588235294118, 11.676470588235293, 11.676470588235293, 0, 0, 25, 5.57, 8.84, 35.205882352941174, 7.352941176470588, 7, 0], 1305: [17, 71.86666666666666, 72.0, 0, 6.733333333333333, 15.933333333333334, 16.533333333333335, 0, 0, 25, 1.79, 2.85, 51.166666666666664, 8.466666666666667, 6, 0], 1306: [17, 69.6896551724138, 70.79310344827586, 0, 7.655172413793103, 13.413793103448276, 13.241379310344827, 0, 0, 25, -7.05, -7.89, 44.689655172413794, 4.344827586206897, 0, 0], 1307: [17, 76.0, 73.375, 0, 6.125, 14.4375, 15.25, 0, 0, 25, 2.58, 5.21, 36.65625, 5.625, 12, 0], 1308: [21, 71.03225806451613, 63.61290322580645, 0, 5.774193548387097, 15.32258064516129, 14.838709677419354, 0, 0, 25, -3.54, 3.59, 45.0, 4.548387096774194, 13, 0], 1309: [7, 73.25925925925925, 79.29629629629629, 0, 6.0, 15.11111111111111, 16.74074074074074, 0, 0, 25, -8.17, -14.21, 42.148148148148145, 9.333333333333334, 5, 0], 1310: [7, 64.59375, 72.0, 0, 5.1875, 10.84375, 14.40625, 0, 0, 25, -3.86, -11.26, 36.5, 5.15625, 2, 0], 1311: [8, 66.09677419354838, 77.54838709677419, 0, 6.838709677419355, 13.96774193548387, 17.193548387096776, 0, 0, 25, -5.23, -16.68, 36.903225806451616, 7.387096774193548, 2, 0], 1312: [16, 75.0, 75.0, 0, 10.2, 18.733333333333334, 14.8, 0, 0, 25, -4.56, -4.17, 40.46666666666667, 7.533333333333333, 0, 0], 1313: [15, 73.90322580645162, 73.70967741935483, 0, 7.806451612903226, 13.258064516129032, 13.64516129032258, 0, 0, 25, -6.73, -7.55, 38.12903225806452, 6.161290322580645, 1, 0], 1314: [28, 82.26470588235294, 69.55882352941177, 1, 6.588235294117647, 20.823529411764707, 12.647058823529411, 0, 1, 1, 10.69, 23.44, 47.76470588235294, 7.911764705882353, 30, 3], 1315: [14, 73.48275862068965, 72.10344827586206, 0, 7.0, 15.137931034482758, 15.0, 0, 0, 25, -4.91, -3.68, 41.689655172413794, 8.862068965517242, 1, 0], 1316: [19, 83.4, 79.83333333333333, 0, 13.7, 18.633333333333333, 12.733333333333333, 0, 0, 25, -3.92, -1.41, 38.93333333333333, 5.9, 1, 0], 1317: [10, 72.13333333333334, 78.73333333333333, 0, 6.233333333333333, 12.066666666666666, 14.766666666666667, 0, 0, 25, -3.23, -9.83, 38.6, 7.0, 3, 0], 1318: [17, 71.40625, 71.15625, 0, 8.9375, 15.15625, 12.71875, 0, 0, 25, 1.35, 1.6, 34.71875, 6.3125, 5, 0], 1319: [3, 67.25, 82.71428571428571, 0, 7.857142857142857, 13.285714285714286, 13.857142857142858, 0, 0, 25, -2.83, -18.29, 35.785714285714285, 6.607142857142857, 2, 0], 1320: [21, 67.54545454545455, 62.90909090909091, 0, 9.030303030303031, 13.0, 10.696969696969697, 0, 0, 11, 4.44, 8.78, 33.06060606060606, 6.181818181818182, 8, 0], 1321: [20, 72.0, 65.96875, 1, 8.6875, 16.46875, 10.28125, 0, 0, 25, 4.12, 10.16, 36.46875, 3.875, 1, 0], 1322: [5, 76.83333333333333, 86.91666666666667, 0, 0.0, 0.0, 0.0, 0, 0, 25, 0, 0, 0.0, 0.0, 3, 0], 1323: [21, 75.71875, 70.59375, 1, 8.1875, 15.0, 11.15625, 0, 0, 6, 9.57, 14.1, 39.53125, 6.15625, 18, 0], 1324: [21, 86.3125, 78.90625, 0, 9.875, 17.03125, 12.46875, 0, 0, 25, -1.61, 6.3, 42.90625, 6.71875, 3, 0], 1325: [20, 77.90322580645162, 74.64516129032258, 0, 9.548387096774194, 15.709677419354838, 13.32258064516129, 0, 0, 25, -1.18, 1.9, 40.354838709677416, 5.064516129032258, 5, 0], 1326: [20, 70.42424242424242, 68.0, 1, 6.636363636363637, 12.030303030303031, 13.636363636363637, 0, 0, 25, 7.08, 9.39, 40.39393939393939, 5.787878787878788, 18, 0], 1327: [0, 0, 0, 0, 0, 0, 0, 0, 0, 25, 0, 0, 0, 0, 0, 0], 1328: [25, 80.40625, 70.4375, 1, 11.9375, 16.78125, 15.0625, 0, 0, 2, 11.14, 19.76, 44.3125, 7.71875, 24, 0], 1329: [12, 66.5, 67.125, 1, 6.40625, 12.15625, 12.46875, 0, 0, 25, 8.81, 8.18, 34.71875, 5.59375, 19, 0], 1330: [22, 68.48571428571428, 61.82857142857143, 0, 4.542857142857143, 14.428571428571429, 9.885714285714286, 0, 0, 25, -2.31, 4.66, 42.114285714285714, 6.314285714285714, 9, 0], 1331: [12, 74.34482758620689, 77.62068965517241, 0, 6.689655172413793, 13.241379310344827, 12.862068965517242, 0, 0, 25, 0.59, -2.69, 37.96551724137931, 5.586206896551724, 3, 0], 1332: [27, 78.54545454545455, 69.39393939393939, 1, 7.878787878787879, 15.666666666666666, 13.030303030303031, 1, 1, 1, 8.64, 18.05, 41.878787878787875, 8.333333333333334, 11, 0], 1333: [18, 72.0, 70.56666666666666, 1, 7.266666666666667, 14.4, 11.933333333333334, 0, 0, 7, 9.26, 10.39, 36.733333333333334, 7.866666666666666, 5, 0], 1334: [6, 68.5, 74.42307692307692, 0, 7.3076923076923075, 13.923076923076923, 14.5, 0, 0, 25, 2.35, -3.57, 38.19230769230769, 4.8076923076923075, 5, 0], 1335: [10, 68.07407407407408, 72.11111111111111, 0, 7.407407407407407, 14.11111111111111, 13.74074074074074, 0, 0, 25, -2.15, -6.18, 37.074074074074076, 5.407407407407407, 12, 0], 1336: [16, 65.84375, 69.625, 1, 6.59375, 10.0625, 11.28125, 0, 0, 25, 6.95, 3.17, 34.65625, 5.1875, 4, 0], 1337: [17, 72.86666666666666, 71.96666666666667, 0, 5.4, 15.233333333333333, 11.8, 0, 0, 25, 1.68, 2.33, 39.4, 6.233333333333333, 7, 0], 1338: [20, 75.7741935483871, 68.70967741935483, 1, 6.580645161290323, 17.64516129032258, 12.35483870967742, 0, 0, 10, 8.75, 15.47, 40.54838709677419, 5.225806451612903, 19, 0], 1339: [11, 76.93548387096774, 79.70967741935483, 0, 9.32258064516129, 13.709677419354838, 12.548387096774194, 0, 0, 25, 0.56, -2.21, 36.45161290322581, 6.709677419354839, 1, 0], 1340: [11, 75.96551724137932, 78.17241379310344, 0, 5.758620689655173, 18.17241379310345, 13.517241379310345, 0, 0, 25, -5.94, -8.15, 37.793103448275865, 9.068965517241379, 2, 0], 1341: [7, 60.41935483870968, 71.03225806451613, 0, 4.096774193548387, 8.67741935483871, 14.903225806451612, 0, 0, 25, -6.82, -17.43, 32.193548387096776, 7.709677419354839, 1, 0], 1342: [8, 64.82142857142857, 73.21428571428571, 0, 5.285714285714286, 12.5, 15.357142857142858, 0, 0, 25, -4.98, -13.38, 37.392857142857146, 7.357142857142857, 0, 0], 1343: [21, 78.25925925925925, 68.85185185185185, 0, 10.444444444444445, 15.962962962962964, 12.148148148148149, 0, 0, 25, -1.72, 7.17, 39.592592592592595, 7.62962962962963, 11, 0], 1344: [23, 73.96969696969697, 69.72727272727273, 1, 7.545454545454546, 16.666666666666668, 12.181818181818182, 0, 0, 9, 8.46, 11.94, 38.27272727272727, 6.9393939393939394, 11, 0], 1345: [26, 77.73529411764706, 64.58823529411765, 1, 7.882352941176471, 18.08823529411765, 12.323529411764707, 0, 0, 5, 7.46, 20.17, 42.44117647058823, 4.323529411764706, 24, 0], 1346: [9, 65.63333333333334, 71.03333333333333, 0, 7.633333333333334, 12.566666666666666, 15.266666666666667, 0, 0, 25, -4.98, -10.38, 43.3, 4.866666666666666, 0, 0], 1347: [14, 71.55172413793103, 73.27586206896552, 0, 7.793103448275862, 14.137931034482758, 14.172413793103448, 0, 0, 25, -3.45, -5.17, 40.48275862068966, 6.310344827586207, 2, 0], 1348: [17, 69.375, 64.75, 0, 6.65625, 12.21875, 11.53125, 0, 0, 25, 3.29, 7.92, 34.9375, 5.3125, 6, 0], 1349: [10, 75.56666666666666, 81.66666666666667, 0, 7.6, 13.966666666666667, 13.933333333333334, 0, 0, 25, -2.7, -8.8, 35.06666666666667, 6.833333333333333, 0, 0], 1350: [16, 76.5625, 73.84375, 0, 7.5, 16.59375, 10.21875, 0, 0, 25, 4.56, 7.28, 31.90625, 6.5625, 8, 0], 1351: [13, 65.96969696969697, 67.36363636363636, 0, 6.181818181818182, 12.606060606060606, 12.727272727272727, 0, 0, 25, -3.6, -5.0, 35.45454545454545, 5.7272727272727275, 2, 0], 1352: [10, 65.0625, 70.84375, 0, 5.5625, 12.5, 14.0, 0, 0, 25, -7.75, -13.53, 32.5625, 8.28125, 6, 0], 1353: [6, 67.54838709677419, 81.03225806451613, 1, 5.193548387096774, 12.161290322580646, 14.225806451612904, 0, 0, 25, 6.43, -7.06, 35.903225806451616, 6.290322580645161, 2, 0], 1354: [17, 71.35483870967742, 73.03225806451613, 0, 6.483870967741935, 13.935483870967742, 12.741935483870968, 0, 0, 25, -8.24, -9.99, 36.935483870967744, 5.032258064516129, 5, 0], 1355: [24, 75.80645161290323, 68.7741935483871, 0, 8.225806451612904, 12.290322580645162, 12.806451612903226, 0, 0, 12, -1.22, 5.44, 41.25806451612903, 5.451612903225806, 4, 0], 1356: [22, 73.75, 69.65625, 0, 6.625, 11.59375, 13.6875, 0, 0, 25, -1.3, 2.79, 35.46875, 7.25, 9, 0], 1357: [12, 73.9, 77.86666666666666, 0, 5.633333333333334, 12.1, 14.333333333333334, 0, 0, 25, -9.05, -13.01, 37.6, 6.333333333333333, 0, 0], 1358: [15, 72.03448275862068, 71.44827586206897, 0, 9.10344827586207, 19.82758620689655, 13.689655172413794, 0, 0, 25, -6.5, -6.06, 43.48275862068966, 6.482758620689655, 2, 0], 1359: [12, 72.3225806451613, 73.7741935483871, 0, 5.709677419354839, 14.03225806451613, 14.612903225806452, 0, 0, 25, -4.49, -5.94, 36.87096774193548, 7.290322580645161, 2, 0], 1360: [8, 60.37931034482759, 69.58620689655173, 0, 6.620689655172414, 11.310344827586206, 14.068965517241379, 0, 0, 25, 1.42, -7.78, 34.310344827586206, 4.793103448275862, 3, 0], 1361: [23, 67.84375, 60.46875, 0, 6.9375, 12.65625, 14.625, 0, 0, 25, 4.33, 11.89, 46.09375, 6.5625, 9, 0], 1362: [14, 76.86206896551724, 79.10344827586206, 0, 8.03448275862069, 12.793103448275861, 13.068965517241379, 0, 0, 25, -0.68, -2.92, 40.724137931034484, 5.586206896551724, 1, 0], 1363: [6, 67.03571428571429, 74.17857142857143, 0, 7.571428571428571, 16.035714285714285, 15.321428571428571, 0, 0, 25, 1.35, -5.79, 40.357142857142854, 6.642857142857143, 1, 0], 1364: [17, 70.96666666666667, 68.2, 0, 8.366666666666667, 16.533333333333335, 13.966666666666667, 0, 0, 25, 1.44, 3.79, 41.166666666666664, 6.5, 5, 0], 1365: [10, 67.0, 73.53333333333333, 0, 7.733333333333333, 12.766666666666667, 11.633333333333333, 0, 0, 25, 1.86, -4.67, 34.9, 4.466666666666667, 4, 0], 1366: [14, 60.793103448275865, 67.27586206896552, 0, 7.0344827586206895, 11.379310344827585, 16.310344827586206, 0, 0, 25, -8.59, -15.39, 35.241379310344826, 6.931034482758621, 0, 0], 1367: [7, 70.60714285714286, 80.0, 0, 0.0, 0.0, 0.0, 0, 0, 25, 0, 0, 0.0, 0.0, 0, 0], 1368: [10, 69.90322580645162, 75.96774193548387, 0, 7.774193548387097, 15.225806451612904, 16.258064516129032, 0, 0, 25, -7.55, -13.61, 36.774193548387096, 6.806451612903226, 1, 0], 1369: [3, 65.4074074074074, 78.03703703703704, 0, 5.703703703703703, 13.25925925925926, 14.851851851851851, 0, 0, 25, -3.43, -16.05, 37.851851851851855, 8.074074074074074, 1, 0], 1370: [12, 64.14285714285714, 68.57142857142857, 0, 7.035714285714286, 14.821428571428571, 17.928571428571427, 0, 0, 25, -5.02, -9.62, 41.92857142857143, 6.892857142857143, 0, 0], 1371: [25, 74.84848484848484, 67.78787878787878, 1, 6.242424242424242, 13.787878787878787, 14.151515151515152, 0, 1, 6, 8.28, 14.66, 41.06060606060606, 7.606060606060606, 11, 0], 1372: [23, 79.53571428571429, 64.25, 0, 9.607142857142858, 22.678571428571427, 14.607142857142858, 0, 0, 14, -5.47, 9.23, 42.42857142857143, 11.071428571428571, 4, 0], 1373: [21, 78.15151515151516, 72.96969696969697, 0, 6.515151515151516, 14.909090909090908, 16.515151515151516, 0, 0, 25, -3.19, 1.73, 41.27272727272727, 6.363636363636363, 6, 0], 1374: [25, 77.3, 63.43333333333333, 0, 6.466666666666667, 17.6, 12.333333333333334, 0, 0, 25, 4.56, 18.42, 39.43333333333333, 6.066666666666666, 5, 0], 1375: [12, 68.29032258064517, 74.45161290322581, 0, 6.870967741935484, 11.290322580645162, 15.548387096774194, 0, 0, 25, -2.02, -8.18, 39.61290322580645, 7.129032258064516, 6, 0], 1376: [23, 75.83870967741936, 69.41935483870968, 1, 6.967741935483871, 14.870967741935484, 14.935483870967742, 0, 0, 25, 5.83, 12.01, 44.25806451612903, 7.419354838709677, 5, 0], 1377: [12, 75.93333333333334, 80.63333333333334, 0, 6.7, 16.4, 12.866666666666667, 0, 0, 25, -0.88, -5.58, 35.9, 6.966666666666667, 0, 0], 1378: [8, 63.18181818181818, 71.27272727272727, 0, 4.03030303030303, 10.030303030303031, 14.606060606060606, 0, 0, 25, 5.24, -2.85, 38.515151515151516, 4.545454545454546, 3, 0], 1379: [7, 63.77777777777778, 70.70370370370371, 0, 9.518518518518519, 13.074074074074074, 14.296296296296296, 0, 0, 25, -3.66, -10.58, 34.074074074074076, 5.777777777777778, 3, 0], 1380: [19, 71.2258064516129, 69.35483870967742, 0, 6.806451612903226, 12.290322580645162, 12.612903225806452, 0, 0, 16, -9.37, -7.68, 40.58064516129032, 8.32258064516129, 8, 0], 1381: [4, 69.10714285714286, 82.25, 0, 7.5, 12.714285714285714, 14.035714285714286, 0, 0, 25, -4.22, -17.36, 33.07142857142857, 6.071428571428571, 1, 0], 1382: [22, 77.8, 72.83333333333333, 0, 8.533333333333333, 13.933333333333334, 11.9, 0, 0, 25, 1.87, 6.55, 36.733333333333334, 6.133333333333334, 2, 0], 1383: [14, 64.58064516129032, 66.58064516129032, 0, 7.741935483870968, 11.935483870967742, 14.258064516129032, 0, 0, 25, -9.24, -11.24, 38.225806451612904, 6.161290322580645, 0, 0], 1384: [12, 69.20689655172414, 72.72413793103448, 0, 7.517241379310345, 12.275862068965518, 12.96551724137931, 0, 0, 25, -9.06, -12.57, 37.689655172413794, 4.827586206896552, 1, 0], 1385: [7, 66.90322580645162, 76.74193548387096, 1, 6.645161290322581, 13.32258064516129, 15.774193548387096, 0, 0, 25, 7.94, -1.9, 36.83870967741935, 6.516129032258065, 14, 0], 1386: [27, 77.58823529411765, 69.91176470588235, 0, 7.382352941176471, 15.705882352941176, 10.558823529411764, 0, 0, 8, 4.93, 12.1, 40.529411764705884, 5.411764705882353, 8, 0], 1387: [11, 65.8125, 72.03125, 0, 6.21875, 13.3125, 13.59375, 0, 0, 25, 3.49, -2.73, 32.65625, 5.46875, 7, 0], 1388: [26, 74.74193548387096, 61.12903225806452, 0, 9.774193548387096, 18.806451612903224, 10.774193548387096, 0, 0, 25, 1.24, 13.6, 39.516129032258064, 5.451612903225806, 8, 0], 1389: [14, 65.53333333333333, 66.23333333333333, 0, 6.1, 11.9, 13.066666666666666, 0, 0, 25, -4.3, -5.0, 36.733333333333334, 5.466666666666667, 3, 0], 1390: [14, 69.13793103448276, 71.48275862068965, 1, 5.931034482758621, 12.068965517241379, 12.241379310344827, 0, 0, 25, 10.41, 8.06, 35.51724137931034, 7.0, 16, 0], 1391: [8, 77.9, 84.33333333333333, 0, 9.4, 17.3, 13.933333333333334, 0, 0, 25, -4.35, -10.78, 40.43333333333333, 7.166666666666667, 0, 0], 1392: [24, 75.46666666666667, 65.2, 0, 7.333333333333333, 18.033333333333335, 12.566666666666666, 0, 0, 13, -5.28, 3.75, 43.733333333333334, 6.8, 1, 0], 1393: [19, 70.21875, 65.71875, 1, 9.84375, 15.40625, 13.65625, 0, 0, 10, 9.75, 14.62, 41.21875, 9.375, 26, 1], 1394: [23, 72.8, 69.66666666666667, 0, 0.0, 0.0, 0.0, 0, 0, 25, 0, 0, 0.0, 0.0, 1, 0], 1395: [12, 66.93939393939394, 71.48484848484848, 1, 5.666666666666667, 11.575757575757576, 14.484848484848484, 0, 0, 25, 8.62, 4.07, 33.666666666666664, 6.454545454545454, 2, 0], 1396: [21, 68.65625, 67.4375, 0, 7.96875, 13.90625, 9.40625, 0, 0, 10, 6.57, 7.69, 38.28125, 5.40625, 23, 0], 1397: [15, 75.11764705882354, 75.17647058823529, 1, 7.382352941176471, 13.5, 11.294117647058824, 0, 0, 25, 7.86, 7.8, 38.0, 5.294117647058823, 12, 0], 1398: [18, 73.25, 69.46428571428571, 0, 6.178571428571429, 11.714285714285714, 15.178571428571429, 0, 0, 25, -5.3, -1.81, 41.035714285714285, 8.928571428571429, 2, 0], 1399: [17, 77.0, 75.96428571428571, 0, 9.5, 15.785714285714286, 13.678571428571429, 0, 0, 25, -3.66, -3.21, 39.357142857142854, 5.678571428571429, 0, 0], 1400: [20, 71.34375, 68.0625, 1, 7.25, 11.78125, 10.65625, 1, 0, 6, 11.71, 14.8, 35.59375, 5.21875, 25, 0], 1401: [26, 75.91176470588235, 65.52941176470588, 1, 8.264705882352942, 18.0, 13.117647058823529, 0, 0, 3, 8.45, 18.45, 42.970588235294116, 7.647058823529412, 8, 0], 1402: [13, 64.48275862068965, 65.55172413793103, 0, 5.137931034482759, 12.620689655172415, 12.689655172413794, 0, 0, 25, -4.29, -5.36, 36.6551724137931, 6.517241379310345, 2, 0], 1403: [19, 72.38709677419355, 69.83870967741936, 1, 5.967741935483871, 13.483870967741936, 12.32258064516129, 0, 0, 8, 10.25, 12.41, 35.03225806451613, 6.129032258064516, 9, 0], 1404: [17, 70.74193548387096, 71.64516129032258, 0, 8.838709677419354, 13.709677419354838, 13.64516129032258, 0, 0, 25, -4.72, -5.57, 41.25806451612903, 6.548387096774194, 0, 0], 1405: [16, 76.96774193548387, 71.64516129032258, 0, 8.483870967741936, 16.870967741935484, 12.03225806451613, 0, 0, 25, -2.36, 2.96, 37.45161290322581, 5.387096774193548, 0, 0], 1406: [18, 70.33333333333333, 68.16666666666667, 0, 6.066666666666666, 12.366666666666667, 13.333333333333334, 0, 0, 25, -1.57, -0.06, 43.166666666666664, 6.766666666666667, 2, 0], 1407: [7, 67.6896551724138, 74.82758620689656, 0, 7.172413793103448, 12.03448275862069, 12.96551724137931, 0, 0, 25, -2.07, -9.21, 39.03448275862069, 6.379310344827586, 2, 0], 1408: [12, 65.88235294117646, 70.52941176470588, 0, 6.352941176470588, 10.941176470588236, 13.205882352941176, 0, 0, 25, 3.79, -0.85, 37.294117647058826, 6.411764705882353, 3, 0], 1409: [20, 74.0, 69.6774193548387, 0, 7.064516129032258, 14.03225806451613, 11.064516129032258, 0, 0, 11, 5.76, 9.79, 36.225806451612904, 6.967741935483871, 13, 0], 1410: [5, 64.81481481481481, 78.44444444444444, 0, 7.851851851851852, 17.0, 13.777777777777779, 0, 0, 25, -4.25, -17.88, 37.18518518518518, 5.296296296296297, 0, 0], 1411: [18, 72.8125, 70.15625, 0, 6.9375, 14.65625, 13.5, 0, 0, 25, -6.94, -4.64, 39.03125, 4.5625, 7, 0], 1412: [25, 77.7741935483871, 70.41935483870968, 0, 8.064516129032258, 19.580645161290324, 13.35483870967742, 0, 0, 25, -3.07, 3.5, 40.61290322580645, 6.870967741935484, 11, 0], 1413: [9, 63.0, 67.32142857142857, 0, 5.857142857142857, 12.214285714285714, 15.25, 0, 0, 25, -1.26, -5.58, 36.892857142857146, 6.642857142857143, 1, 0], 1414: [23, 70.71875, 66.125, 0, 7.53125, 17.75, 14.71875, 0, 0, 25, 0.77, 5.33, 44.25, 6.78125, 1, 0], 1415: [12, 67.87096774193549, 70.45161290322581, 0, 8.129032258064516, 13.225806451612904, 13.96774193548387, 0, 0, 25, -3.08, -5.66, 37.54838709677419, 5.483870967741935, 0, 0], 1416: [12, 68.73333333333333, 71.56666666666666, 0, 6.9, 12.633333333333333, 14.666666666666666, 0, 0, 25, 3.01, 0.18, 38.86666666666667, 4.566666666666666, 4, 0], 1417: [15, 77.5, 76.71875, 1, 6.25, 15.6875, 12.15625, 0, 0, 25, 9.69, 10.48, 39.5625, 5.46875, 25, 1], 1418: [15, 77.58620689655173, 73.62068965517241, 0, 7.655172413793103, 14.931034482758621, 14.655172413793103, 0, 0, 25, -1.94, 2.62, 48.62068965517241, 7.517241379310345, 6, 0], 1419: [18, 71.7741935483871, 70.41935483870968, 0, 7.258064516129032, 15.516129032258064, 13.67741935483871, 0, 0, 25, -1.46, -0.18, 39.774193548387096, 6.387096774193548, 6, 0], 1420: [7, 72.09375, 80.59375, 0, 6.75, 12.28125, 12.4375, 0, 0, 25, -6.87, -15.37, 31.78125, 6.96875, 1, 0], 1421: [20, 74.48387096774194, 69.03225806451613, 0, 6.290322580645161, 13.612903225806452, 14.32258064516129, 0, 0, 15, -3.25, 1.1, 41.225806451612904, 10.064516129032258, 4, 0], 1422: [11, 71.79310344827586, 74.72413793103448, 0, 10.206896551724139, 15.172413793103448, 14.0, 0, 0, 25, -3.23, -6.01, 40.241379310344826, 7.172413793103448, 2, 0], 1423: [23, 78.06666666666666, 71.7, 0, 7.666666666666667, 14.6, 12.5, 0, 0, 13, 0.35, 6.25, 41.233333333333334, 8.2, 6, 0], 1424: [16, 76.80645161290323, 74.48387096774194, 0, 8.129032258064516, 16.096774193548388, 15.096774193548388, 0, 0, 25, 3.17, 5.5, 40.96774193548387, 8.580645161290322, 15, 1], 1425: [21, 80.84848484848484, 74.75757575757575, 1, 8.06060606060606, 15.272727272727273, 12.606060606060606, 0, 0, 8, 7.64, 13.52, 40.515151515151516, 6.515151515151516, 12, 0], 1426: [22, 79.03125, 70.46875, 0, 9.59375, 18.4375, 15.0625, 0, 0, 25, -3.42, 5.02, 47.8125, 8.15625, 1, 0], 1427: [4, 71.9, 84.9, 0, 7.333333333333333, 12.2, 14.5, 0, 0, 25, -3.36, -16.36, 36.2, 6.866666666666666, 4, 0], 1428: [25, 76.48484848484848, 69.0, 1, 8.272727272727273, 16.87878787878788, 13.545454545454545, 0, 0, 3, 8.79, 15.5, 40.45454545454545, 6.03030303030303, 16, 0], 1429: [14, 73.03448275862068, 72.41379310344827, 0, 8.862068965517242, 15.655172413793103, 12.862068965517242, 0, 0, 25, 2.06, 2.68, 38.206896551724135, 5.896551724137931, 10, 0], 1430: [9, 74.03703703703704, 80.03703703703704, 0, 9.481481481481481, 16.11111111111111, 14.74074074074074, 0, 0, 25, -3.58, -9.58, 40.74074074074074, 6.518518518518518, 0, 0], 1431: [18, 76.8125, 75.6875, 0, 6.96875, 16.0, 13.0, 0, 0, 25, -4.93, -3.81, 37.40625, 6.15625, 10, 0], 1432: [0, 0, 0, 0, 0, 0, 0, 0, 0, 25, 0, 0, 0, 0, 0, 0], 1433: [24, 77.20588235294117, 67.29411764705883, 0, 7.705882352941177, 15.147058823529411, 12.058823529411764, 0, 0, 10, 4.35, 13.83, 39.61764705882353, 9.088235294117647, 12, 0], 1434: [24, 75.26666666666667, 63.63333333333333, 0, 9.933333333333334, 17.533333333333335, 15.9, 0, 0, 25, 0.02, 10.71, 51.1, 8.2, 9, 0], 1435: [19, 76.75, 67.34375, 1, 8.53125, 15.21875, 11.9375, 0, 0, 11, 8.68, 17.2, 39.78125, 4.34375, 13, 0], 1436: [20, 74.72727272727273, 71.51515151515152, 0, 7.7272727272727275, 15.0, 14.787878787878787, 0, 0, 25, -4.73, -1.51, 40.03030303030303, 6.424242424242424, 6, 0], 1437: [29, 76.97058823529412, 63.705882352941174, 1, 10.205882352941176, 18.735294117647058, 12.911764705882353, 1, 0, 2, 9.71, 24.08, 40.73529411764706, 8.294117647058824, 21, 2], 1438: [26, 70.36363636363636, 59.666666666666664, 1, 6.787878787878788, 16.696969696969695, 10.424242424242424, 0, 0, 1, 11.12, 22.04, 36.03030303030303, 6.03030303030303, 16, 0], 1439: [19, 74.57575757575758, 72.0909090909091, 1, 6.0606060606060606, 12.909090909090908, 13.515151515151516, 0, 0, 25, 7.53, 9.93, 37.27272727272727, 5.696969696969697, 5, 0], 1440: [6, 67.18518518518519, 77.0, 0, 0.0, 0.0, 0.0, 0, 0, 25, 0, 0, 0.0, 0.0, 0, 0], 1441: [13, 71.3, 74.7, 0, 8.066666666666666, 14.233333333333333, 16.133333333333333, 0, 0, 25, -1.53, -4.98, 41.36666666666667, 9.166666666666666, 1, 0], 1442: [7, 68.625, 73.5, 0, 7.916666666666667, 15.041666666666666, 13.833333333333334, 0, 0, 25, -1.32, -6.2, 39.5, 6.791666666666667, 0, 0], 1443: [16, 75.9375, 76.34375, 0, 7.28125, 14.46875, 14.03125, 0, 0, 25, -0.89, -1.29, 40.96875, 4.71875, 12, 0], 1444: [11, 71.86666666666666, 74.0, 0, 6.566666666666666, 12.733333333333333, 13.266666666666667, 0, 0, 25, 0.06, -2.07, 39.666666666666664, 6.1, 3, 0], 1445: [0, 0, 0, 0, 0, 0, 0, 0, 0, 25, 0, 0, 0, 0, 0, 0], 1446: [0, 0, 0, 0, 0, 0, 0, 0, 0, 25, 0, 0, 0, 0, 0, 0], 1447: [21, 70.09677419354838, 64.12903225806451, 0, 6.548387096774194, 14.548387096774194, 14.483870967741936, 0, 0, 25, -9.52, -4.79, 43.483870967741936, 7.645161290322581, 1, 0], 1448: [11, 74.03225806451613, 79.03225806451613, 1, 6.290322580645161, 14.0, 14.548387096774194, 0, 0, 25, 10.53, 5.53, 38.25806451612903, 5.935483870967742, 15, 0], 1449: [18, 83.375, 79.78125, 1, 7.78125, 15.25, 14.5625, 0, 0, 25, 8.12, 11.21, 42.5, 8.0625, 10, 0], 1450: [8, 70.43333333333334, 77.9, 1, 6.133333333333334, 13.966666666666667, 14.466666666666667, 0, 0, 25, 7.97, 0.5, 34.93333333333333, 5.166666666666667, 3, 0], 1451: [23, 74.51612903225806, 68.45161290322581, 0, 9.387096774193548, 15.387096774193548, 14.935483870967742, 0, 0, 15, -5.13, 0.18, 41.806451612903224, 5.645161290322581, 6, 0], 1452: [26, 79.20588235294117, 66.61764705882354, 1, 6.147058823529412, 15.0, 14.647058823529411, 0, 0, 3, 9.78, 21.61, 40.588235294117645, 10.088235294117647, 15, 0], 1453: [21, 83.21212121212122, 80.51515151515152, 0, 0.0, 0.0, 0.0, 0, 0, 14, 0, 0, 0.0, 0.0, 5, 0], 1454: [18, 77.6774193548387, 72.7741935483871, 0, 0.0, 0.0, 0.0, 0, 0, 25, 0, 0, 0.0, 0.0, 4, 0], 1455: [23, 73.12903225806451, 59.41935483870968, 0, 8.064516129032258, 15.774193548387096, 11.096774193548388, 0, 0, 11, 4.24, 17.39, 42.096774193548384, 8.225806451612904, 10, 0], 1456: [18, 76.03448275862068, 71.75862068965517, 0, 8.310344827586206, 17.275862068965516, 11.413793103448276, 0, 0, 25, 1.3, 5.57, 39.3448275862069, 5.862068965517241, 0, 0], 1457: [20, 80.27586206896552, 76.0, 0, 9.827586206896552, 13.03448275862069, 13.89655172413793, 0, 0, 25, -5.7, -1.42, 40.0, 6.0, 10, 0], 1458: [20, 68.875, 64.5625, 1, 7.15625, 12.5, 12.03125, 0, 0, 7, 9.4, 13.4, 38.375, 6.40625, 21, 0], 1459: [13, 70.7, 72.1, 0, 9.0, 15.666666666666666, 12.566666666666666, 0, 0, 25, -2.35, -3.75, 33.766666666666666, 5.433333333333334, 4, 0], 1460: [20, 68.63636363636364, 66.6969696969697, 0, 7.757575757575758, 14.484848484848484, 11.969696969696969, 0, 0, 25, -1.76, 0.18, 33.15151515151515, 5.848484848484849, 2, 0], 1461: [12, 70.33333333333333, 72.43333333333334, 0, 10.633333333333333, 13.066666666666666, 11.933333333333334, 0, 0, 25, 2.19, 0.09, 32.96666666666667, 4.4, 4, 0], 1462: [27, 81.34375, 71.03125, 1, 7.96875, 17.125, 13.34375, 0, 0, 2, 8.43, 18.58, 43.34375, 7.6875, 25, 0], 1463: [21, 74.48148148148148, 63.51851851851852, 0, 7.037037037037037, 16.74074074074074, 14.74074074074074, 0, 0, 12, -1.03, 9.08, 44.74074074074074, 6.296296296296297, 1, 0], 1464: [9, 75.63333333333334, 85.63333333333334, 0, 8.566666666666666, 15.566666666666666, 12.9, 0, 0, 25, -0.86, -10.86, 36.03333333333333, 7.3, 0, 0]})\n"
     ]
    }
   ],
   "source": [
    "print(createSeasonDict(2016))\n"
   ]
  },
  {
   "cell_type": "code",
   "execution_count": 19,
   "metadata": {},
   "outputs": [],
   "source": [
    "def getHomeStat(row):\n",
    "    if row == 'H':\n",
    "        home = 1\n",
    "    elif row == 'A':\n",
    "        home = -1\n",
    "    else:\n",
    "        home = 0\n",
    "    return home"
   ]
  },
  {
   "cell_type": "code",
   "execution_count": 20,
   "metadata": {},
   "outputs": [],
   "source": [
    "def createTrainingSet(years):\n",
    "    totalNumGames = 0\n",
    "    for year in years:\n",
    "        season = reg_season_compact_pd[reg_season_compact_pd['Season'] == year]\n",
    "        totalNumGames += len(season.index)\n",
    "        tourney = tourney_compact_pd[tourney_compact_pd['Season'] == year]\n",
    "        totalNumGames += len(tourney.index)\n",
    "    numFeatures = len(getSeasonData(1181,2012)) #Just choosing a random team and seeing the dimensionality of the vector\n",
    "    xTrain = np.zeros(( totalNumGames, numFeatures + 1))\n",
    "    yTrain = np.zeros(( totalNumGames ))\n",
    "    indexCounter = 0\n",
    "    for year in years:\n",
    "        team_vectors = createSeasonDict(year)\n",
    "        season = reg_season_compact_pd[reg_season_compact_pd['Season'] == year]\n",
    "        numGamesInSeason = len(season.index)\n",
    "        tourney = tourney_compact_pd[tourney_compact_pd['Season'] == year]\n",
    "        numGamesInSeason += len(tourney.index)\n",
    "        xTrainSeason = np.zeros(( numGamesInSeason, numFeatures + 1))\n",
    "        yTrainSeason = np.zeros(( numGamesInSeason ))\n",
    "        counter = 0\n",
    "        for index, row in season.iterrows():\n",
    "            w_team = row['WTeamID']\n",
    "            w_vector = team_vectors[w_team]\n",
    "            l_team = row['LTeamID']\n",
    "            l_vector = team_vectors[l_team]\n",
    "            diff = [a - b for a, b in zip(w_vector, l_vector)]\n",
    "            home = getHomeStat(row['WLoc'])\n",
    "            if (counter % 2 == 0):\n",
    "                diff.append(home) \n",
    "                xTrainSeason[counter] = diff\n",
    "                yTrainSeason[counter] = 1\n",
    "            else:\n",
    "                diff.append(home)\n",
    "                xTrainSeason[counter] = [ -p for p in diff]\n",
    "                yTrainSeason[counter] = 0\n",
    "            counter += 1\n",
    "        for index, row in tourney.iterrows():\n",
    "            w_team = row['WTeamID']\n",
    "            w_vector = team_vectors[w_team]\n",
    "            l_team = row['LTeamID']\n",
    "            l_vector = team_vectors[l_team]\n",
    "            diff = [a - b for a, b in zip(w_vector, l_vector)]\n",
    "            home = 0 #All tournament games are neutral\n",
    "            if (counter % 2 == 0):\n",
    "                diff.append(home) \n",
    "                xTrainSeason[counter] = diff\n",
    "                yTrainSeason[counter] = 1\n",
    "            else:\n",
    "                diff.append(home)\n",
    "                xTrainSeason[counter] = [ -p for p in diff]\n",
    "                yTrainSeason[counter] = 0\n",
    "            counter += 1\n",
    "        xTrain[indexCounter:numGamesInSeason+indexCounter] = xTrainSeason\n",
    "        yTrain[indexCounter:numGamesInSeason+indexCounter] = yTrainSeason\n",
    "        indexCounter += numGamesInSeason\n",
    "    return xTrain, yTrain\n"
   ]
  },
  {
   "cell_type": "code",
   "execution_count": 21,
   "metadata": {},
   "outputs": [],
   "source": [
    "def timeit():\n",
    "    import time\n",
    "    t = time.time()\n",
    "    #createTrainingSet()\n",
    "    print(time.time() - t)\n"
   ]
  },
  {
   "cell_type": "code",
   "execution_count": 22,
   "metadata": {},
   "outputs": [],
   "source": [
    "def normalizeInput(arr):\n",
    "    for i in range(arr.shape[1]):\n",
    "        minVal = min(arr[:,i])\n",
    "        maxVal = max(arr[:,i])\n",
    "        arr[:,i] =  (arr[:,i] - minVal) / (maxVal - minVal)\n",
    "    return arr\n",
    "# alternative:\n",
    "def normalize(X):\n",
    "    return (X - np.mean(X, axis = 0)) / np.std(X, axis = 0)"
   ]
  },
  {
   "cell_type": "code",
   "execution_count": 23,
   "metadata": {},
   "outputs": [],
   "source": [
    "def createTrainFeatureMatrix(train_years = range(1994, 2014), xName = 'xTrain', yName = 'yTrain'):\n",
    "    xTrain, yTrain = createTrainingSet(train_years) #10 minutes\n",
    "    np.save(xName, xTrain)\n",
    "    np.save(yName, yTrain)\n",
    "    \n"
   ]
  },
  {
   "cell_type": "code",
   "execution_count": 25,
   "metadata": {},
   "outputs": [],
   "source": [
    "\n",
    "createTrainFeatureMatrix(range(2014, 2015), 'xTest2014', 'yTest2014')\n",
    "createTrainFeatureMatrix(range(2015, 2016), 'xTest2015', 'yTest2015')\n",
    "createTrainFeatureMatrix(range(2016, 2017), 'xTest2016', 'yTest2016')\n",
    "createTrainFeatureMatrix(range(2017, 2018), 'xHold2017', 'yHold2017')\n",
    "test_year = 2015\n",
    "season_dict = createSeasonDict(test_year)\n"
   ]
  },
  {
   "cell_type": "code",
   "execution_count": 26,
   "metadata": {},
   "outputs": [],
   "source": [
    "xTrain = np.load(data_dir + 'FeatureMatrix/xTrain.npy')\n",
    "yTrain = np.load(data_dir + 'FeatureMatrix/yTrain.npy')\n",
    "xTest = np.load(data_dir + 'FeatureMatrix/xTest2015.npy')\n",
    "yTest = np.load(data_dir + 'FeatureMatrix/yTest2015.npy')\n"
   ]
  },
  {
   "cell_type": "code",
   "execution_count": 27,
   "metadata": {},
   "outputs": [],
   "source": [
    "model = linear_model.LogisticRegression()\n",
    "def sample_train():\n",
    "    model.fit(xTrain, yTrain)\n",
    "sample_train()"
   ]
  },
  {
   "cell_type": "code",
   "execution_count": 28,
   "metadata": {},
   "outputs": [],
   "source": [
    "sample_sub_pd = pd.read_csv(data_dir + 'sample_submission_2015.csv')\n",
    "test_year = 2015\n"
   ]
  },
  {
   "cell_type": "code",
   "execution_count": 29,
   "metadata": {},
   "outputs": [],
   "source": [
    "def predictGame(team_1_vector, team_2_vector, home, model):\n",
    "    diff = [a - b for a, b in zip(team_1_vector, team_2_vector)]\n",
    "    diff.append(home)\n",
    "    return model.predict_proba([diff]) \n",
    "\n",
    "\n"
   ]
  },
  {
   "cell_type": "code",
   "execution_count": 30,
   "metadata": {},
   "outputs": [
    {
     "name": "stdout",
     "output_type": "stream",
     "text": [
      "0.901046991348\n"
     ]
    }
   ],
   "source": [
    "import time\n",
    "def createFirstPrediction(year, seasonDict):\n",
    "    #predictionModel = linear\n",
    "    #predictionModel.fit(xTrain, yTrain)\n",
    "    predictionModel = linear_model.LogisticRegression()\n",
    "    predictionModel.fit(xTrain, yTrain)\n",
    "    results = [[0 for x in range(2)] for x in range(len(sample_sub_pd.index))]\n",
    "    for index, row in sample_sub_pd.iterrows():\n",
    "        matchup_id = row['id']\n",
    "        year = int(matchup_id[0:4])\n",
    "        team1_id = int(matchup_id[5:9])\n",
    "        team2_id = int(matchup_id[10:14])\n",
    "        team1_vector = season_dict[int(team1_id)]\n",
    "        team2_vector = season_dict[int(team2_id)]\n",
    "        pred = predictGame(team1_vector, team2_vector, 0, predictionModel)\n",
    "        results[index][0] = matchup_id\n",
    "        results[index][1] = pred[0][1]\n",
    "    firstRow = [[0 for x in range(2)] for x in range(1)]\n",
    "    firstRow[0][0] = 'id'\n",
    "    firstRow[0][1] = 'pred'\n",
    "    with open(\"../../submissions/logistic_submission_2015.csv\", \"wb\") as f:\n",
    "        writer = csv.writer(f)\n",
    "        writer.writerows(firstRow)\n",
    "        writer.writerows(results)\n",
    "        \n",
    "t = time.time()\n",
    "createFirstPrediction(2015, season_dict)\n",
    "print(time.time() - t)"
   ]
  },
  {
   "cell_type": "code",
   "execution_count": null,
   "metadata": {},
   "outputs": [],
   "source": []
  }
 ],
 "metadata": {
  "kernelspec": {
   "display_name": "Python 2",
   "language": "python",
   "name": "python2"
  },
  "language_info": {
   "codemirror_mode": {
    "name": "ipython",
    "version": 2
   },
   "file_extension": ".py",
   "mimetype": "text/x-python",
   "name": "python",
   "nbconvert_exporter": "python",
   "pygments_lexer": "ipython2",
   "version": "2.7.12"
  }
 },
 "nbformat": 4,
 "nbformat_minor": 2
}
